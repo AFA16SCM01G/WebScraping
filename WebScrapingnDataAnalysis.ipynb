{
 "cells": [
  {
   "cell_type": "markdown",
   "metadata": {
    "slideshow": {
     "slide_type": "slide"
    }
   },
   "source": [
    "## Web Scraping: Extracting Data from the Web"
   ]
  },
  {
   "cell_type": "markdown",
   "metadata": {
    "slideshow": {
     "slide_type": "slide"
    }
   },
   "source": [
    "## Some Import"
   ]
  },
  {
   "cell_type": "code",
   "execution_count": 219,
   "metadata": {
    "collapsed": false,
    "slideshow": {
     "slide_type": "-"
    }
   },
   "outputs": [],
   "source": [
    "%matplotlib inline \n",
    "from selenium import webdriver\n",
    "import time,re,json,numpy as np\n",
    "import pandas as pd\n",
    "from collections import defaultdict,Counter\n",
    "import matplotlib.pyplot as plt"
   ]
  },
  {
   "cell_type": "markdown",
   "metadata": {
    "slideshow": {
     "slide_type": "slide"
    }
   },
   "source": [
    "## Initial Setup and Launch the browser to open the URL"
   ]
  },
  {
   "cell_type": "code",
   "execution_count": 1,
   "metadata": {
    "collapsed": false,
    "slideshow": {
     "slide_type": "-"
    }
   },
   "outputs": [
    {
     "ename": "NameError",
     "evalue": "name 'json' is not defined",
     "output_type": "error",
     "traceback": [
      "\u001b[0;31m---------------------------------------------------------------------------\u001b[0m",
      "\u001b[0;31mNameError\u001b[0m                                 Traceback (most recent call last)",
      "\u001b[0;32m<ipython-input-1-025165aa9eaf>\u001b[0m in \u001b[0;36m<module>\u001b[0;34m()\u001b[0m\n\u001b[1;32m      1\u001b[0m \u001b[0murl\u001b[0m \u001b[0;34m=\u001b[0m \u001b[0;34m\"http://www.imdb.com/list/ls061683439/\"\u001b[0m\u001b[0;34m\u001b[0m\u001b[0m\n\u001b[1;32m      2\u001b[0m \u001b[0;32mwith\u001b[0m \u001b[0mopen\u001b[0m\u001b[0;34m(\u001b[0m\u001b[0;34m'./img/filmfare.json'\u001b[0m\u001b[0;34m,\u001b[0m\u001b[0mencoding\u001b[0m\u001b[0;34m=\u001b[0m\u001b[0;34m\"utf-8\"\u001b[0m\u001b[0;34m)\u001b[0m \u001b[0;32mas\u001b[0m \u001b[0mf\u001b[0m\u001b[0;34m:\u001b[0m\u001b[0;34m\u001b[0m\u001b[0m\n\u001b[0;32m----> 3\u001b[0;31m     \u001b[0mdatatbl\u001b[0m \u001b[0;34m=\u001b[0m \u001b[0mjson\u001b[0m\u001b[0;34m.\u001b[0m\u001b[0mload\u001b[0m\u001b[0;34m(\u001b[0m\u001b[0mf\u001b[0m\u001b[0;34m)\u001b[0m\u001b[0;34m\u001b[0m\u001b[0m\n\u001b[0m\u001b[1;32m      4\u001b[0m \u001b[0mdriver\u001b[0m \u001b[0;34m=\u001b[0m \u001b[0mwebdriver\u001b[0m\u001b[0;34m.\u001b[0m\u001b[0mChrome\u001b[0m\u001b[0;34m(\u001b[0m\u001b[0mdatatbl\u001b[0m\u001b[0;34m[\u001b[0m\u001b[0;34m'data'\u001b[0m\u001b[0;34m]\u001b[0m\u001b[0;34m[\u001b[0m\u001b[0;34m'chromedriver'\u001b[0m\u001b[0;34m]\u001b[0m\u001b[0;34m)\u001b[0m\u001b[0;34m\u001b[0m\u001b[0m\n\u001b[1;32m      5\u001b[0m \u001b[0mdriver\u001b[0m\u001b[0;34m.\u001b[0m\u001b[0mget\u001b[0m\u001b[0;34m(\u001b[0m\u001b[0murl\u001b[0m\u001b[0;34m)\u001b[0m\u001b[0;34m\u001b[0m\u001b[0m\n",
      "\u001b[0;31mNameError\u001b[0m: name 'json' is not defined"
     ]
    }
   ],
   "source": [
    "url = \"http://www.imdb.com/list/ls061683439/\"\n",
    "with open('./img/filmfare.json',encoding=\"utf-8\") as f:\n",
    "    datatbl = json.load(f)\n",
    "driver = webdriver.Chrome(datatbl['data']['chromedriver'])\n",
    "driver.get(url)"
   ]
  },
  {
   "cell_type": "markdown",
   "metadata": {
    "slideshow": {
     "slide_type": "slide"
    }
   },
   "source": [
    "## Getting Data"
   ]
  },
  {
   "cell_type": "markdown",
   "metadata": {
    "slideshow": {
     "slide_type": "slide"
    }
   },
   "source": [
    "### Function to extract the data from Web using Selenium"
   ]
  },
  {
   "cell_type": "code",
   "execution_count": 221,
   "metadata": {
    "collapsed": false,
    "slideshow": {
     "slide_type": "-"
    }
   },
   "outputs": [],
   "source": [
    "def ExtractText(Xpath):\n",
    "    textlist=[]\n",
    "    if(Xpath=='Movies_Director_Xpath'):\n",
    "        for item in range(1,123,2):\n",
    "            textlist.append(driver.find_element_by_xpath(datatbl['data'][Xpath]+'[%d]'%item).text)\n",
    "    else:\n",
    "        [textlist.append(item.text) for item in driver.find_elements_by_xpath(datatbl['data'][Xpath])]\n",
    "    return textlist"
   ]
  },
  {
   "cell_type": "markdown",
   "metadata": {
    "slideshow": {
     "slide_type": "slide"
    }
   },
   "source": [
    "### Let's extract all the required data like Ratings,Votes,Genre, Year of Release for the Best Movies"
   ]
  },
  {
   "cell_type": "code",
   "execution_count": 222,
   "metadata": {
    "collapsed": false,
    "slideshow": {
     "slide_type": "-"
    }
   },
   "outputs": [],
   "source": [
    "#Extracting Data from Web\n",
    "Movies_Votes,Movies_Name,Movies_Ratings,Movies_RunTime=[[] for i in range(4)]\n",
    "datarepo = [[]]*5\n",
    "Xpath_list = ['Movies_Name_Xpath','Movies_Rate_Xpath','Movies_Runtime_Xpath','Movies_Votes_Xpath',\n",
    "              'Movies_Director_Xpath']\n",
    "\n",
    "for i in range(5):\n",
    "    if(i==3):\n",
    "        driver.find_element_by_xpath(datatbl['data']['listview']).click()\n",
    "    if(i==4):\n",
    "        driver.find_element_by_xpath(datatbl['data']['detailview']).click()\n",
    "    datarepo[i] = ExtractText(Xpath_list[i])\n",
    "\n",
    "driver.quit()"
   ]
  },
  {
   "cell_type": "markdown",
   "metadata": {
    "slideshow": {
     "slide_type": "slide"
    }
   },
   "source": [
    "# How does data looks now?\n",
    "## Is this Data is in the correct format to perform data manipulation?"
   ]
  },
  {
   "cell_type": "markdown",
   "metadata": {
    "slideshow": {
     "slide_type": "slide"
    }
   },
   "source": [
    "## The individual movie related data is stored in a Python List, it's hard to corelated the data attributes with the respective Movies "
   ]
  },
  {
   "cell_type": "code",
   "execution_count": 223,
   "metadata": {
    "collapsed": false,
    "slideshow": {
     "slide_type": "-"
    }
   },
   "outputs": [
    {
     "name": "stdout",
     "output_type": "stream",
     "text": [
      "['Bajirao Mastani', 'Queen', 'Bhaag Milkha Bhaag', 'Barfi!', 'Zindagi Na Milegi Dobara']\n",
      "\n",
      "['17,362', '39,518', '39,731', '52,308', '41,731']\n"
     ]
    }
   ],
   "source": [
    "# Movie Name List & Ratings\n",
    "print(datarepo[0][:5])\n",
    "print(\"\")\n",
    "print(datarepo[3][:5])"
   ]
  },
  {
   "cell_type": "markdown",
   "metadata": {
    "slideshow": {
     "slide_type": "slide"
    }
   },
   "source": [
    "# Store Data in a  Python Dictionary"
   ]
  },
  {
   "cell_type": "markdown",
   "metadata": {
    "slideshow": {
     "slide_type": "slide"
    }
   },
   "source": [
    "## The data is stored in a python dictionary which is more structured way to store the data here and all the movie attributes are now linked with the respective movie"
   ]
  },
  {
   "cell_type": "code",
   "execution_count": 224,
   "metadata": {
    "collapsed": false,
    "slideshow": {
     "slide_type": "-"
    }
   },
   "outputs": [],
   "source": [
    "# Result in a Python Dictionary\n",
    "Years=range(2015,1954,-1)\n",
    "result = defaultdict(dict)\n",
    "for i in range(0,len(datarepo[0])):\n",
    "    result[i]['Movie Name']= datarepo[0][i]\n",
    "    result[i]['Year']= Years[i]\n",
    "    result[i]['Rating']= datarepo[1][i]\n",
    "    result[i]['Votes']= datarepo[3][i]\n",
    "    result[i]['RunTime']= datarepo[2][i]\n",
    "    result[i]['Genre']= datatbl['data']['Genre'][i]\n",
    "    result[i]['Director']= datarepo[4][i]\n"
   ]
  },
  {
   "cell_type": "markdown",
   "metadata": {
    "slideshow": {
     "slide_type": "slide"
    }
   },
   "source": [
    "# Let's see now how the data in dictionary looks like?"
   ]
  },
  {
   "cell_type": "code",
   "execution_count": 225,
   "metadata": {
    "collapsed": false,
    "slideshow": {
     "slide_type": "skip"
    }
   },
   "outputs": [
    {
     "name": "stdout",
     "output_type": "stream",
     "text": [
      "{'Director': 'Director: Sanjay Leela Bhansali',\n",
      " 'Genre': 'Drama',\n",
      " 'Movie Name': 'Bajirao Mastani',\n",
      " 'Rating': '7.2',\n",
      " 'RunTime': 'A historical account of the romance between the Maratha general, '\n",
      "            'Baji Rao I and Mastani, a Muslim princess. (158 mins.)',\n",
      " 'Votes': '17,362',\n",
      " 'Year': 2015}\n"
     ]
    }
   ],
   "source": [
    "import pprint as pp\n",
    "pp = pprint.PrettyPrinter(depth=10)\n",
    "pp.pprint(result[0])"
   ]
  },
  {
   "cell_type": "code",
   "execution_count": 226,
   "metadata": {
    "collapsed": false,
    "slideshow": {
     "slide_type": "slide"
    }
   },
   "outputs": [
    {
     "name": "stdout",
     "output_type": "stream",
     "text": [
      "{\n",
      "    \"Director\": \"Director: Sanjay Leela Bhansali\",\n",
      "    \"Votes\": \"17,362\",\n",
      "    \"RunTime\": \"A historical account of the romance between the Maratha general, Baji Rao I and Mastani, a Muslim princess. (158 mins.)\",\n",
      "    \"Year\": 2015,\n",
      "    \"Genre\": \"Drama\",\n",
      "    \"Movie Name\": \"Bajirao Mastani\",\n",
      "    \"Rating\": \"7.2\"\n",
      "}\n"
     ]
    }
   ],
   "source": [
    "print(json.dumps((result[0]),indent=4))"
   ]
  },
  {
   "cell_type": "markdown",
   "metadata": {
    "slideshow": {
     "slide_type": "-"
    }
   },
   "source": [
    "## Oh! Something is wrong with the data, It's not in right shape to perform analysis on this data set"
   ]
  },
  {
   "cell_type": "markdown",
   "metadata": {
    "slideshow": {
     "slide_type": "slide"
    }
   },
   "source": [
    "## Let's clean the data"
   ]
  },
  {
   "cell_type": "markdown",
   "metadata": {
    "slideshow": {
     "slide_type": "slide"
    }
   },
   "source": [
    "* Replace the comma(,) in Vote Value and change the data type to int\n",
    "* Change the Data type for Rating and RunTime"
   ]
  },
  {
   "cell_type": "code",
   "execution_count": 227,
   "metadata": {
    "collapsed": false,
    "slideshow": {
     "slide_type": "-"
    }
   },
   "outputs": [],
   "source": [
    "for key,values in result.items():\n",
    "    values['Votes'] = int(values['Votes'].replace(\",\",\"\"))\n",
    "    values['Rating']= float(values['Rating'])\n",
    "    values['Director']= values['Director'].replace('Director: ','')\n",
    "    try:\n",
    "        values['RunTime'] = int(re.findall(r'\\d+',values['RunTime'])[-1])\n",
    "    except TypeError:\n",
    "        values['RunTime'] = np.NaN\n",
    "    except IndexError:\n",
    "        values['RunTime'] = np.NaN"
   ]
  },
  {
   "cell_type": "markdown",
   "metadata": {
    "slideshow": {
     "slide_type": "slide"
    }
   },
   "source": [
    "## Now let's look at the data and see how it looks like"
   ]
  },
  {
   "cell_type": "code",
   "execution_count": 228,
   "metadata": {
    "collapsed": false,
    "slideshow": {
     "slide_type": "slide"
    }
   },
   "outputs": [
    {
     "name": "stdout",
     "output_type": "stream",
     "text": [
      "{\n",
      "    \"Director\": \"Sanjay Leela Bhansali\",\n",
      "    \"Votes\": 17362,\n",
      "    \"RunTime\": 158,\n",
      "    \"Year\": 2015,\n",
      "    \"Genre\": \"Drama\",\n",
      "    \"Movie Name\": \"Bajirao Mastani\",\n",
      "    \"Rating\": 7.2\n",
      "}\n"
     ]
    }
   ],
   "source": [
    "print(json.dumps((result[0]),indent=4))"
   ]
  },
  {
   "cell_type": "markdown",
   "metadata": {
    "slideshow": {
     "slide_type": "slide"
    }
   },
   "source": [
    "## Data in Pandas Dataframe"
   ]
  },
  {
   "cell_type": "markdown",
   "metadata": {
    "slideshow": {
     "slide_type": "-"
    }
   },
   "source": [
    "<img src=\"./img/Dataframe.png\">"
   ]
  },
  {
   "cell_type": "markdown",
   "metadata": {
    "slideshow": {
     "slide_type": "slide"
    }
   },
   "source": [
    "## Data is consumed in a Pandas Dataframe, Which is more convenient way to perform data analysis,manipulation or aggregation"
   ]
  },
  {
   "cell_type": "code",
   "execution_count": 229,
   "metadata": {
    "collapsed": false,
    "scrolled": false,
    "slideshow": {
     "slide_type": "-"
    }
   },
   "outputs": [
    {
     "data": {
      "text/html": [
       "<div>\n",
       "<table border=\"1\" class=\"dataframe\">\n",
       "  <thead>\n",
       "    <tr style=\"text-align: right;\">\n",
       "      <th></th>\n",
       "      <th>Year</th>\n",
       "      <th>Movie Name</th>\n",
       "      <th>Rating</th>\n",
       "      <th>Votes</th>\n",
       "      <th>Genre</th>\n",
       "      <th>RunTime</th>\n",
       "      <th>Director</th>\n",
       "    </tr>\n",
       "  </thead>\n",
       "  <tbody>\n",
       "    <tr>\n",
       "      <th>1</th>\n",
       "      <td>2015</td>\n",
       "      <td>Bajirao Mastani</td>\n",
       "      <td>7.2</td>\n",
       "      <td>17362</td>\n",
       "      <td>Drama</td>\n",
       "      <td>158</td>\n",
       "      <td>Sanjay Leela Bhansali</td>\n",
       "    </tr>\n",
       "    <tr>\n",
       "      <th>2</th>\n",
       "      <td>2014</td>\n",
       "      <td>Queen</td>\n",
       "      <td>8.4</td>\n",
       "      <td>39518</td>\n",
       "      <td>Drama</td>\n",
       "      <td>146</td>\n",
       "      <td>Vikas Bahl</td>\n",
       "    </tr>\n",
       "    <tr>\n",
       "      <th>3</th>\n",
       "      <td>2013</td>\n",
       "      <td>Bhaag Milkha Bhaag</td>\n",
       "      <td>8.3</td>\n",
       "      <td>39731</td>\n",
       "      <td>Drama</td>\n",
       "      <td>186</td>\n",
       "      <td>Rakeysh Omprakash Mehra</td>\n",
       "    </tr>\n",
       "    <tr>\n",
       "      <th>4</th>\n",
       "      <td>2012</td>\n",
       "      <td>Barfi!</td>\n",
       "      <td>8.2</td>\n",
       "      <td>52308</td>\n",
       "      <td>Family</td>\n",
       "      <td>151</td>\n",
       "      <td>Anurag Basu</td>\n",
       "    </tr>\n",
       "    <tr>\n",
       "      <th>5</th>\n",
       "      <td>2011</td>\n",
       "      <td>Zindagi Na Milegi Dobara</td>\n",
       "      <td>8.1</td>\n",
       "      <td>41731</td>\n",
       "      <td>Drama</td>\n",
       "      <td>155</td>\n",
       "      <td>Zoya Akhtar</td>\n",
       "    </tr>\n",
       "    <tr>\n",
       "      <th>6</th>\n",
       "      <td>2010</td>\n",
       "      <td>Dabangg</td>\n",
       "      <td>6.3</td>\n",
       "      <td>19777</td>\n",
       "      <td>Family</td>\n",
       "      <td>126</td>\n",
       "      <td>Abhinav Singh Kashyap</td>\n",
       "    </tr>\n",
       "    <tr>\n",
       "      <th>7</th>\n",
       "      <td>2009</td>\n",
       "      <td>3 Idiots</td>\n",
       "      <td>8.4</td>\n",
       "      <td>201215</td>\n",
       "      <td>Musical</td>\n",
       "      <td>170</td>\n",
       "      <td>Rajkumar Hirani</td>\n",
       "    </tr>\n",
       "    <tr>\n",
       "      <th>8</th>\n",
       "      <td>2008</td>\n",
       "      <td>Jodhaa Akbar</td>\n",
       "      <td>7.6</td>\n",
       "      <td>17911</td>\n",
       "      <td>Drama</td>\n",
       "      <td>213</td>\n",
       "      <td>Ashutosh Gowariker</td>\n",
       "    </tr>\n",
       "    <tr>\n",
       "      <th>9</th>\n",
       "      <td>2007</td>\n",
       "      <td>Like Stars on Earth</td>\n",
       "      <td>8.5</td>\n",
       "      <td>82690</td>\n",
       "      <td>Family</td>\n",
       "      <td>165</td>\n",
       "      <td>Aamir Khan</td>\n",
       "    </tr>\n",
       "    <tr>\n",
       "      <th>10</th>\n",
       "      <td>2006</td>\n",
       "      <td>Rang De Basanti</td>\n",
       "      <td>8.4</td>\n",
       "      <td>68588</td>\n",
       "      <td>Musical</td>\n",
       "      <td>157</td>\n",
       "      <td>Rakesh Omprakash Mehra</td>\n",
       "    </tr>\n",
       "  </tbody>\n",
       "</table>\n",
       "</div>"
      ],
      "text/plain": [
       "    Year                Movie Name  Rating   Votes    Genre  RunTime  \\\n",
       "1   2015           Bajirao Mastani     7.2   17362    Drama      158   \n",
       "2   2014                     Queen     8.4   39518    Drama      146   \n",
       "3   2013        Bhaag Milkha Bhaag     8.3   39731    Drama      186   \n",
       "4   2012                    Barfi!     8.2   52308   Family      151   \n",
       "5   2011  Zindagi Na Milegi Dobara     8.1   41731    Drama      155   \n",
       "6   2010                   Dabangg     6.3   19777   Family      126   \n",
       "7   2009                  3 Idiots     8.4  201215  Musical      170   \n",
       "8   2008              Jodhaa Akbar     7.6   17911    Drama      213   \n",
       "9   2007       Like Stars on Earth     8.5   82690   Family      165   \n",
       "10  2006           Rang De Basanti     8.4   68588  Musical      157   \n",
       "\n",
       "                   Director  \n",
       "1     Sanjay Leela Bhansali  \n",
       "2                Vikas Bahl  \n",
       "3   Rakeysh Omprakash Mehra  \n",
       "4               Anurag Basu  \n",
       "5               Zoya Akhtar  \n",
       "6     Abhinav Singh Kashyap  \n",
       "7           Rajkumar Hirani  \n",
       "8        Ashutosh Gowariker  \n",
       "9                Aamir Khan  \n",
       "10   Rakesh Omprakash Mehra  "
      ]
     },
     "execution_count": 229,
     "metadata": {},
     "output_type": "execute_result"
    }
   ],
   "source": [
    "# create dataframe\n",
    "df = pd.DataFrame.from_dict(result,orient='index')\n",
    "df = df[['Year', 'Movie Name', 'Rating', 'Votes','Genre','RunTime','Director']]\n",
    "df.index = np.arange(1, 62)\n",
    "df.head(10)"
   ]
  },
  {
   "cell_type": "markdown",
   "metadata": {
    "slideshow": {
     "slide_type": "slide"
    }
   },
   "source": [
    "## Let's use some of the Pandas functions now and start the Analysis"
   ]
  },
  {
   "cell_type": "markdown",
   "metadata": {
    "slideshow": {
     "slide_type": "slide"
    }
   },
   "source": [
    "## No. of rows with missing values(NaN)"
   ]
  },
  {
   "cell_type": "code",
   "execution_count": 230,
   "metadata": {
    "collapsed": false,
    "slideshow": {
     "slide_type": "-"
    }
   },
   "outputs": [
    {
     "name": "stdout",
     "output_type": "stream",
     "text": [
      "3 rows have missing values\n"
     ]
    }
   ],
   "source": [
    "nans = df.shape[0] - df.dropna().shape[0]\n",
    "print('%d rows have missing values' % nans)"
   ]
  },
  {
   "cell_type": "markdown",
   "metadata": {
    "slideshow": {
     "slide_type": "slide"
    }
   },
   "source": [
    "## Replace NaN with Mean value of that Column"
   ]
  },
  {
   "cell_type": "code",
   "execution_count": 231,
   "metadata": {
    "collapsed": false,
    "slideshow": {
     "slide_type": "-"
    }
   },
   "outputs": [
    {
     "data": {
      "text/html": [
       "<div>\n",
       "<table border=\"1\" class=\"dataframe\">\n",
       "  <thead>\n",
       "    <tr style=\"text-align: right;\">\n",
       "      <th></th>\n",
       "      <th>Year</th>\n",
       "      <th>Movie Name</th>\n",
       "      <th>Rating</th>\n",
       "      <th>Votes</th>\n",
       "      <th>Genre</th>\n",
       "      <th>RunTime</th>\n",
       "      <th>Director</th>\n",
       "    </tr>\n",
       "  </thead>\n",
       "  <tbody>\n",
       "    <tr>\n",
       "      <th>1</th>\n",
       "      <td>2015</td>\n",
       "      <td>Bajirao Mastani</td>\n",
       "      <td>7.2</td>\n",
       "      <td>17362</td>\n",
       "      <td>Drama</td>\n",
       "      <td>158</td>\n",
       "      <td>Sanjay Leela Bhansali</td>\n",
       "    </tr>\n",
       "    <tr>\n",
       "      <th>2</th>\n",
       "      <td>2014</td>\n",
       "      <td>Queen</td>\n",
       "      <td>8.4</td>\n",
       "      <td>39518</td>\n",
       "      <td>Drama</td>\n",
       "      <td>146</td>\n",
       "      <td>Vikas Bahl</td>\n",
       "    </tr>\n",
       "    <tr>\n",
       "      <th>3</th>\n",
       "      <td>2013</td>\n",
       "      <td>Bhaag Milkha Bhaag</td>\n",
       "      <td>8.3</td>\n",
       "      <td>39731</td>\n",
       "      <td>Drama</td>\n",
       "      <td>186</td>\n",
       "      <td>Rakeysh Omprakash Mehra</td>\n",
       "    </tr>\n",
       "    <tr>\n",
       "      <th>4</th>\n",
       "      <td>2012</td>\n",
       "      <td>Barfi!</td>\n",
       "      <td>8.2</td>\n",
       "      <td>52308</td>\n",
       "      <td>Family</td>\n",
       "      <td>151</td>\n",
       "      <td>Anurag Basu</td>\n",
       "    </tr>\n",
       "    <tr>\n",
       "      <th>5</th>\n",
       "      <td>2011</td>\n",
       "      <td>Zindagi Na Milegi Dobara</td>\n",
       "      <td>8.1</td>\n",
       "      <td>41731</td>\n",
       "      <td>Drama</td>\n",
       "      <td>155</td>\n",
       "      <td>Zoya Akhtar</td>\n",
       "    </tr>\n",
       "  </tbody>\n",
       "</table>\n",
       "</div>"
      ],
      "text/plain": [
       "   Year                Movie Name  Rating  Votes   Genre  RunTime  \\\n",
       "1  2015           Bajirao Mastani     7.2  17362   Drama      158   \n",
       "2  2014                     Queen     8.4  39518   Drama      146   \n",
       "3  2013        Bhaag Milkha Bhaag     8.3  39731   Drama      186   \n",
       "4  2012                    Barfi!     8.2  52308  Family      151   \n",
       "5  2011  Zindagi Na Milegi Dobara     8.1  41731   Drama      155   \n",
       "\n",
       "                  Director  \n",
       "1    Sanjay Leela Bhansali  \n",
       "2               Vikas Bahl  \n",
       "3  Rakeysh Omprakash Mehra  \n",
       "4              Anurag Basu  \n",
       "5              Zoya Akhtar  "
      ]
     },
     "execution_count": 231,
     "metadata": {},
     "output_type": "execute_result"
    }
   ],
   "source": [
    "df=df.fillna(int(df['RunTime'].mean()))\n",
    "df[0:5]"
   ]
  },
  {
   "cell_type": "code",
   "execution_count": 15,
   "metadata": {
    "collapsed": false,
    "slideshow": {
     "slide_type": "slide"
    }
   },
   "outputs": [
    {
     "name": "stdout",
     "output_type": "stream",
     "text": [
      "<class 'pandas.core.frame.DataFrame'>\n",
      "Int64Index: 61 entries, 0 to 60\n",
      "Data columns (total 7 columns):\n",
      "Year          61 non-null int64\n",
      "Movie Name    61 non-null object\n",
      "Rating        61 non-null float64\n",
      "Votes         61 non-null int64\n",
      "Genre         61 non-null object\n",
      "RunTime       61 non-null float64\n",
      "Director      61 non-null object\n",
      "dtypes: float64(2), int64(2), object(3)\n",
      "memory usage: 3.8+ KB\n"
     ]
    }
   ],
   "source": [
    "df.info()"
   ]
  },
  {
   "cell_type": "markdown",
   "metadata": {
    "slideshow": {
     "slide_type": "slide"
    }
   },
   "source": [
    "## Movies with Highest Ratings"
   ]
  },
  {
   "cell_type": "markdown",
   "metadata": {
    "slideshow": {
     "slide_type": "slide"
    }
   },
   "source": [
    "## The top five movies with Maximum Rating since 1955"
   ]
  },
  {
   "cell_type": "code",
   "execution_count": 232,
   "metadata": {
    "collapsed": false,
    "slideshow": {
     "slide_type": "-"
    }
   },
   "outputs": [
    {
     "data": {
      "text/html": [
       "<div>\n",
       "<table border=\"1\" class=\"dataframe\">\n",
       "  <thead>\n",
       "    <tr style=\"text-align: right;\">\n",
       "      <th></th>\n",
       "      <th>Year</th>\n",
       "      <th>Movie Name</th>\n",
       "      <th>Rating</th>\n",
       "      <th>Votes</th>\n",
       "      <th>Genre</th>\n",
       "      <th>RunTime</th>\n",
       "      <th>Director</th>\n",
       "    </tr>\n",
       "  </thead>\n",
       "  <tbody>\n",
       "    <tr>\n",
       "      <th>1</th>\n",
       "      <td>1973</td>\n",
       "      <td>Anand</td>\n",
       "      <td>8.9</td>\n",
       "      <td>10732</td>\n",
       "      <td>Drama</td>\n",
       "      <td>122</td>\n",
       "      <td>Hrishikesh Mukherjee</td>\n",
       "    </tr>\n",
       "    <tr>\n",
       "      <th>2</th>\n",
       "      <td>1968</td>\n",
       "      <td>Guide</td>\n",
       "      <td>8.6</td>\n",
       "      <td>3958</td>\n",
       "      <td>Family</td>\n",
       "      <td>183</td>\n",
       "      <td>Vijay Anand</td>\n",
       "    </tr>\n",
       "    <tr>\n",
       "      <th>3</th>\n",
       "      <td>2007</td>\n",
       "      <td>Like Stars on Earth</td>\n",
       "      <td>8.5</td>\n",
       "      <td>82690</td>\n",
       "      <td>Family</td>\n",
       "      <td>165</td>\n",
       "      <td>Aamir Khan</td>\n",
       "    </tr>\n",
       "    <tr>\n",
       "      <th>4</th>\n",
       "      <td>1955</td>\n",
       "      <td>Do Bigha Zamin</td>\n",
       "      <td>8.4</td>\n",
       "      <td>1104</td>\n",
       "      <td>Drama</td>\n",
       "      <td>131</td>\n",
       "      <td>Bimal Roy</td>\n",
       "    </tr>\n",
       "    <tr>\n",
       "      <th>5</th>\n",
       "      <td>1962</td>\n",
       "      <td>Mughal-E-Azam</td>\n",
       "      <td>8.4</td>\n",
       "      <td>3871</td>\n",
       "      <td>Crime</td>\n",
       "      <td>197</td>\n",
       "      <td>K. Asif</td>\n",
       "    </tr>\n",
       "  </tbody>\n",
       "</table>\n",
       "</div>"
      ],
      "text/plain": [
       "   Year           Movie Name  Rating  Votes   Genre  RunTime  \\\n",
       "1  1973                Anand     8.9  10732   Drama      122   \n",
       "2  1968                Guide     8.6   3958  Family      183   \n",
       "3  2007  Like Stars on Earth     8.5  82690  Family      165   \n",
       "4  1955       Do Bigha Zamin     8.4   1104   Drama      131   \n",
       "5  1962        Mughal-E-Azam     8.4   3871   Crime      197   \n",
       "\n",
       "               Director  \n",
       "1  Hrishikesh Mukherjee  \n",
       "2           Vijay Anand  \n",
       "3            Aamir Khan  \n",
       "4             Bimal Roy  \n",
       "5               K. Asif  "
      ]
     },
     "execution_count": 232,
     "metadata": {},
     "output_type": "execute_result"
    }
   ],
   "source": [
    "#Highest Rating Movies\n",
    "df1=df.sort_values('Rating',ascending=[False]).head(5)\n",
    "df1.index = np.arange(1, 6)\n",
    "df1"
   ]
  },
  {
   "cell_type": "markdown",
   "metadata": {
    "slideshow": {
     "slide_type": "slide"
    }
   },
   "source": [
    "## Rating Trend for Best Movies from last 65 years"
   ]
  },
  {
   "cell_type": "code",
   "execution_count": 233,
   "metadata": {
    "collapsed": false,
    "scrolled": true,
    "slideshow": {
     "slide_type": "-"
    }
   },
   "outputs": [
    {
     "data": {
      "image/png": "[encoded data removed]",
      "text/plain": [
       "<matplotlib.figure.Figure at 0x10c590160>"
      ]
     },
     "metadata": {},
     "output_type": "display_data"
    }
   ],
   "source": [
    "df.plot(x=df.Year,y=['Rating']);"
   ]
  },
  {
   "cell_type": "markdown",
   "metadata": {
    "slideshow": {
     "slide_type": "slide"
    }
   },
   "source": [
    "## Movies with Lowest Ratings"
   ]
  },
  {
   "cell_type": "code",
   "execution_count": 234,
   "metadata": {
    "collapsed": false,
    "slideshow": {
     "slide_type": "-"
    }
   },
   "outputs": [
    {
     "data": {
      "text/html": [
       "<div>\n",
       "<table border=\"1\" class=\"dataframe\">\n",
       "  <thead>\n",
       "    <tr style=\"text-align: right;\">\n",
       "      <th></th>\n",
       "      <th>Year</th>\n",
       "      <th>Movie Name</th>\n",
       "      <th>Rating</th>\n",
       "      <th>Votes</th>\n",
       "      <th>Genre</th>\n",
       "      <th>RunTime</th>\n",
       "      <th>Director</th>\n",
       "    </tr>\n",
       "  </thead>\n",
       "  <tbody>\n",
       "    <tr>\n",
       "      <th>1</th>\n",
       "      <td>1996</td>\n",
       "      <td>Raja Hindustani</td>\n",
       "      <td>6.1</td>\n",
       "      <td>4803</td>\n",
       "      <td>Drama</td>\n",
       "      <td>165</td>\n",
       "      <td>Dharmesh Darshan</td>\n",
       "    </tr>\n",
       "    <tr>\n",
       "      <th>2</th>\n",
       "      <td>2010</td>\n",
       "      <td>Dabangg</td>\n",
       "      <td>6.3</td>\n",
       "      <td>19777</td>\n",
       "      <td>Family</td>\n",
       "      <td>126</td>\n",
       "      <td>Abhinav Singh Kashyap</td>\n",
       "    </tr>\n",
       "    <tr>\n",
       "      <th>3</th>\n",
       "      <td>1987</td>\n",
       "      <td>Ram Teri Ganga Maili</td>\n",
       "      <td>6.8</td>\n",
       "      <td>686</td>\n",
       "      <td>Family</td>\n",
       "      <td>178</td>\n",
       "      <td>Raj Kapoor</td>\n",
       "    </tr>\n",
       "    <tr>\n",
       "      <th>4</th>\n",
       "      <td>1970</td>\n",
       "      <td>Brahmachari</td>\n",
       "      <td>6.8</td>\n",
       "      <td>239</td>\n",
       "      <td>Drama</td>\n",
       "      <td>157</td>\n",
       "      <td>Bhappi Sonie</td>\n",
       "    </tr>\n",
       "    <tr>\n",
       "      <th>5</th>\n",
       "      <td>2000</td>\n",
       "      <td>Kaho Naa... Pyaar Hai</td>\n",
       "      <td>6.9</td>\n",
       "      <td>7877</td>\n",
       "      <td>Drama</td>\n",
       "      <td>172</td>\n",
       "      <td>Rakesh Roshan</td>\n",
       "    </tr>\n",
       "  </tbody>\n",
       "</table>\n",
       "</div>"
      ],
      "text/plain": [
       "   Year             Movie Name  Rating  Votes   Genre  RunTime  \\\n",
       "1  1996        Raja Hindustani     6.1   4803   Drama      165   \n",
       "2  2010                Dabangg     6.3  19777  Family      126   \n",
       "3  1987   Ram Teri Ganga Maili     6.8    686  Family      178   \n",
       "4  1970            Brahmachari     6.8    239   Drama      157   \n",
       "5  2000  Kaho Naa... Pyaar Hai     6.9   7877   Drama      172   \n",
       "\n",
       "                Director  \n",
       "1       Dharmesh Darshan  \n",
       "2  Abhinav Singh Kashyap  \n",
       "3             Raj Kapoor  \n",
       "4           Bhappi Sonie  \n",
       "5          Rakesh Roshan  "
      ]
     },
     "execution_count": 234,
     "metadata": {},
     "output_type": "execute_result"
    }
   ],
   "source": [
    "df1=df.sort_values('Rating',ascending=[True]).head(5)\n",
    "df1.index = np.arange(1, 6)\n",
    "df1"
   ]
  },
  {
   "cell_type": "markdown",
   "metadata": {
    "slideshow": {
     "slide_type": "slide"
    }
   },
   "source": [
    "## Movies with Maximum Run time"
   ]
  },
  {
   "cell_type": "markdown",
   "metadata": {
    "slideshow": {
     "slide_type": "slide"
    }
   },
   "source": [
    "## Top 10 movies with maximum Run time"
   ]
  },
  {
   "cell_type": "code",
   "execution_count": 235,
   "metadata": {
    "collapsed": false,
    "slideshow": {
     "slide_type": "-"
    }
   },
   "outputs": [
    {
     "data": {
      "text/html": [
       "<div>\n",
       "<table border=\"1\" class=\"dataframe\">\n",
       "  <thead>\n",
       "    <tr style=\"text-align: right;\">\n",
       "      <th></th>\n",
       "      <th>Year</th>\n",
       "      <th>Movie Name</th>\n",
       "      <th>Rating</th>\n",
       "      <th>Votes</th>\n",
       "      <th>Genre</th>\n",
       "      <th>RunTime</th>\n",
       "      <th>Director</th>\n",
       "    </tr>\n",
       "  </thead>\n",
       "  <tbody>\n",
       "    <tr>\n",
       "      <th>1</th>\n",
       "      <td>2001</td>\n",
       "      <td>Lagaan: Once Upon a Time in India</td>\n",
       "      <td>8.2</td>\n",
       "      <td>68900</td>\n",
       "      <td>Romance</td>\n",
       "      <td>224</td>\n",
       "      <td>Ashutosh Gowariker</td>\n",
       "    </tr>\n",
       "    <tr>\n",
       "      <th>2</th>\n",
       "      <td>2008</td>\n",
       "      <td>Jodhaa Akbar</td>\n",
       "      <td>7.6</td>\n",
       "      <td>17911</td>\n",
       "      <td>Drama</td>\n",
       "      <td>213</td>\n",
       "      <td>Ashutosh Gowariker</td>\n",
       "    </tr>\n",
       "    <tr>\n",
       "      <th>3</th>\n",
       "      <td>1994</td>\n",
       "      <td>Hum Aapke Hain Koun...!</td>\n",
       "      <td>7.7</td>\n",
       "      <td>10953</td>\n",
       "      <td>Drama</td>\n",
       "      <td>206</td>\n",
       "      <td>Sooraj R. Barjatya</td>\n",
       "    </tr>\n",
       "    <tr>\n",
       "      <th>4</th>\n",
       "      <td>1962</td>\n",
       "      <td>Mughal-E-Azam</td>\n",
       "      <td>8.4</td>\n",
       "      <td>3871</td>\n",
       "      <td>Crime</td>\n",
       "      <td>197</td>\n",
       "      <td>K. Asif</td>\n",
       "    </tr>\n",
       "    <tr>\n",
       "      <th>5</th>\n",
       "      <td>1989</td>\n",
       "      <td>Maine Pyar Kiya</td>\n",
       "      <td>7.5</td>\n",
       "      <td>5802</td>\n",
       "      <td>Drama</td>\n",
       "      <td>192</td>\n",
       "      <td>Sooraj R. Barjatya</td>\n",
       "    </tr>\n",
       "    <tr>\n",
       "      <th>6</th>\n",
       "      <td>2004</td>\n",
       "      <td>Veer-Zaara</td>\n",
       "      <td>7.9</td>\n",
       "      <td>33493</td>\n",
       "      <td>Mystery</td>\n",
       "      <td>192</td>\n",
       "      <td>Yash Chopra</td>\n",
       "    </tr>\n",
       "    <tr>\n",
       "      <th>7</th>\n",
       "      <td>1995</td>\n",
       "      <td>Dilwale Dulhania Le Jayenge</td>\n",
       "      <td>8.3</td>\n",
       "      <td>42076</td>\n",
       "      <td>Musical</td>\n",
       "      <td>189</td>\n",
       "      <td>Aditya Chopra</td>\n",
       "    </tr>\n",
       "    <tr>\n",
       "      <th>8</th>\n",
       "      <td>1999</td>\n",
       "      <td>Straight from the Heart</td>\n",
       "      <td>7.6</td>\n",
       "      <td>9797</td>\n",
       "      <td>Romance</td>\n",
       "      <td>188</td>\n",
       "      <td>Sanjay Leela Bhansali</td>\n",
       "    </tr>\n",
       "    <tr>\n",
       "      <th>9</th>\n",
       "      <td>1991</td>\n",
       "      <td>Lamhe</td>\n",
       "      <td>7.4</td>\n",
       "      <td>1929</td>\n",
       "      <td>Musical</td>\n",
       "      <td>187</td>\n",
       "      <td>Yash Chopra</td>\n",
       "    </tr>\n",
       "    <tr>\n",
       "      <th>10</th>\n",
       "      <td>2013</td>\n",
       "      <td>Bhaag Milkha Bhaag</td>\n",
       "      <td>8.3</td>\n",
       "      <td>39731</td>\n",
       "      <td>Drama</td>\n",
       "      <td>186</td>\n",
       "      <td>Rakeysh Omprakash Mehra</td>\n",
       "    </tr>\n",
       "  </tbody>\n",
       "</table>\n",
       "</div>"
      ],
      "text/plain": [
       "    Year                         Movie Name  Rating  Votes    Genre  RunTime  \\\n",
       "1   2001  Lagaan: Once Upon a Time in India     8.2  68900  Romance      224   \n",
       "2   2008                       Jodhaa Akbar     7.6  17911    Drama      213   \n",
       "3   1994            Hum Aapke Hain Koun...!     7.7  10953    Drama      206   \n",
       "4   1962                      Mughal-E-Azam     8.4   3871    Crime      197   \n",
       "5   1989                    Maine Pyar Kiya     7.5   5802    Drama      192   \n",
       "6   2004                         Veer-Zaara     7.9  33493  Mystery      192   \n",
       "7   1995        Dilwale Dulhania Le Jayenge     8.3  42076  Musical      189   \n",
       "8   1999            Straight from the Heart     7.6   9797  Romance      188   \n",
       "9   1991                              Lamhe     7.4   1929  Musical      187   \n",
       "10  2013                 Bhaag Milkha Bhaag     8.3  39731    Drama      186   \n",
       "\n",
       "                   Director  \n",
       "1        Ashutosh Gowariker  \n",
       "2        Ashutosh Gowariker  \n",
       "3        Sooraj R. Barjatya  \n",
       "4                   K. Asif  \n",
       "5        Sooraj R. Barjatya  \n",
       "6               Yash Chopra  \n",
       "7             Aditya Chopra  \n",
       "8     Sanjay Leela Bhansali  \n",
       "9               Yash Chopra  \n",
       "10  Rakeysh Omprakash Mehra  "
      ]
     },
     "execution_count": 235,
     "metadata": {},
     "output_type": "execute_result"
    }
   ],
   "source": [
    "#Movies with maximum Run Time\n",
    "df1=df.sort_values(['RunTime'],ascending=[False]).head(10)\n",
    "df1.index = np.arange(1, 11)\n",
    "df1"
   ]
  },
  {
   "cell_type": "markdown",
   "metadata": {
    "slideshow": {
     "slide_type": "slide"
    }
   },
   "source": [
    "## Best Movie Run time"
   ]
  },
  {
   "cell_type": "markdown",
   "metadata": {
    "slideshow": {
     "slide_type": "slide"
    }
   },
   "source": [
    "## Let's plot a graph to see the movie run time trend from 1955 thru 2015"
   ]
  },
  {
   "cell_type": "code",
   "execution_count": 236,
   "metadata": {
    "collapsed": false,
    "slideshow": {
     "slide_type": "slide"
    }
   },
   "outputs": [
    {
     "data": {
      "image/png": "[encoded data removed]",
      "text/plain": [
       "<matplotlib.figure.Figure at 0x10c7dc7f0>"
      ]
     },
     "metadata": {},
     "output_type": "display_data"
    }
   ],
   "source": [
    "df.plot(x=df.Year,y=['RunTime']);"
   ]
  },
  {
   "cell_type": "markdown",
   "metadata": {
    "slideshow": {
     "slide_type": "slide"
    }
   },
   "source": [
    "## Mean of the Movie Run Time"
   ]
  },
  {
   "cell_type": "code",
   "execution_count": 237,
   "metadata": {
    "collapsed": false,
    "slideshow": {
     "slide_type": "-"
    }
   },
   "outputs": [
    {
     "data": {
      "text/plain": [
       "162.2295081967213"
      ]
     },
     "execution_count": 237,
     "metadata": {},
     "output_type": "execute_result"
    }
   ],
   "source": [
    "df['RunTime'].mean()"
   ]
  },
  {
   "cell_type": "markdown",
   "metadata": {
    "slideshow": {
     "slide_type": "slide"
    }
   },
   "source": [
    "# Best Movie Ratings"
   ]
  },
  {
   "cell_type": "markdown",
   "metadata": {
    "slideshow": {
     "slide_type": "slide"
    }
   },
   "source": [
    "## Perform some analysis on the ratings of all the Best won movies\n",
    "\n",
    "* No. of Movies Greater than IMDB 7 ratings"
   ]
  },
  {
   "cell_type": "code",
   "execution_count": 238,
   "metadata": {
    "collapsed": false,
    "slideshow": {
     "slide_type": "-"
    }
   },
   "outputs": [
    {
     "data": {
      "text/plain": [
       "56"
      ]
     },
     "execution_count": 238,
     "metadata": {},
     "output_type": "execute_result"
    }
   ],
   "source": [
    "df[(df['Rating']>=7)]['Rating'].count()"
   ]
  },
  {
   "cell_type": "markdown",
   "metadata": {
    "slideshow": {
     "slide_type": "slide"
    }
   },
   "source": [
    "## Movie Ratings Visualization using Bar Graph"
   ]
  },
  {
   "cell_type": "code",
   "execution_count": 240,
   "metadata": {
    "collapsed": false,
    "slideshow": {
     "slide_type": "-"
    }
   },
   "outputs": [
    {
     "data": {
      "image/png": "[encoded data removed]",
      "text/plain": [
       "<matplotlib.figure.Figure at 0x10c8ea940>"
      ]
     },
     "metadata": {},
     "output_type": "display_data"
    }
   ],
   "source": [
    "Rating_Histdic = defaultdict(dict)\n",
    "\n",
    "Rating_Histdic['Btwn 6&7'] = df[(df['Rating']>=6)&(df['Rating']<7)]['Rating'].count()\n",
    "Rating_Histdic['GTEQ 8'] = df[(df['Rating']>=8)]['Rating'].count()\n",
    "Rating_Histdic['Btwn 7 & 8'] = df[(df['Rating']>=7)&(df['Rating']<8)]['Rating'].count()\n",
    "\n",
    "\n",
    "plt.bar(range(len(Rating_Histdic)), Rating_Histdic.values(), align='center',color='brown',width=0.4)\n",
    "plt.xticks(range(len(Rating_Histdic)), Rating_Histdic.keys(), rotation=25);"
   ]
  },
  {
   "cell_type": "markdown",
   "metadata": {
    "slideshow": {
     "slide_type": "slide"
    }
   },
   "source": [
    "## Percentage distribution of the Ratings in a Pie-Chart"
   ]
  },
  {
   "cell_type": "code",
   "execution_count": 241,
   "metadata": {
    "collapsed": false,
    "scrolled": true,
    "slideshow": {
     "slide_type": "-"
    }
   },
   "outputs": [
    {
     "data": {
      "image/png": "[encoded data removed]",
      "text/plain": [
       "<matplotlib.figure.Figure at 0x10c839cf8>"
      ]
     },
     "metadata": {},
     "output_type": "display_data"
    }
   ],
   "source": [
    "Rating_Hist = []\n",
    "import numpy as np\n",
    "    \n",
    "Rating_Hist.append(Rating_Histdic['Btwn 6&7'])\n",
    "Rating_Hist.append(Rating_Histdic['GTEQ 8'])\n",
    "Rating_Hist.append(Rating_Histdic['Btwn 7 & 8'])\n",
    "\n",
    "labels = ['Btwn 6&7', 'GTEQ 8', 'Btwn 7 & 8']\n",
    "colors = ['red', 'orange', 'green']\n",
    "\n",
    "plt.pie(Rating_Hist,labels=labels, colors=colors,autopct='%1.1f%%', shadow=True, startangle=90);"
   ]
  },
  {
   "cell_type": "markdown",
   "metadata": {
    "slideshow": {
     "slide_type": "slide"
    }
   },
   "source": [
    "## Best Picture by Genre"
   ]
  },
  {
   "cell_type": "markdown",
   "metadata": {
    "slideshow": {
     "slide_type": "slide"
    }
   },
   "source": [
    "## Let's analyze the Genre for the best won movies"
   ]
  },
  {
   "cell_type": "code",
   "execution_count": 25,
   "metadata": {
    "collapsed": false,
    "scrolled": true,
    "slideshow": {
     "slide_type": "-"
    }
   },
   "outputs": [
    {
     "data": {
      "image/png": "[encoded data removed]",
      "text/plain": [
       "<matplotlib.figure.Figure at 0x10c500400>"
      ]
     },
     "metadata": {},
     "output_type": "display_data"
    }
   ],
   "source": [
    "Category=Counter(datatbl['data']['Genre'])\n",
    "df1 = pd.DataFrame.from_dict(Category,orient='index')\n",
    "df1 = df1.sort_values([0],ascending=[False]).head(5)\n",
    "df1.plot(kind='barh',color=['g','c','m']);"
   ]
  },
  {
   "cell_type": "markdown",
   "metadata": {
    "slideshow": {
     "slide_type": "slide"
    }
   },
   "source": [
    "## Directors whose movie won more than once for Best Film"
   ]
  },
  {
   "cell_type": "markdown",
   "metadata": {
    "slideshow": {
     "slide_type": "slide"
    }
   },
   "source": [
    "## Movies for which they won best film award"
   ]
  },
  {
   "cell_type": "code",
   "execution_count": 270,
   "metadata": {
    "collapsed": true,
    "slideshow": {
     "slide_type": "skip"
    }
   },
   "outputs": [],
   "source": [
    "df['freq']= df.groupby('Director')['Director'].transform('count')\n",
    "df2=df[df['freq']>1]\n",
    "del df2['freq']"
   ]
  },
  {
   "cell_type": "code",
   "execution_count": 276,
   "metadata": {
    "collapsed": false,
    "slideshow": {
     "slide_type": "slide"
    }
   },
   "outputs": [
    {
     "data": {
      "text/html": [
       "<div>\n",
       "<table border=\"1\" class=\"dataframe\">\n",
       "  <thead>\n",
       "    <tr style=\"text-align: right;\">\n",
       "      <th></th>\n",
       "      <th></th>\n",
       "      <th></th>\n",
       "      <th></th>\n",
       "      <th></th>\n",
       "      <th></th>\n",
       "      <th></th>\n",
       "    </tr>\n",
       "    <tr>\n",
       "      <th>Director</th>\n",
       "      <th>Year</th>\n",
       "      <th>Movie Name</th>\n",
       "      <th>Rating</th>\n",
       "      <th>Genre</th>\n",
       "      <th>Votes</th>\n",
       "      <th>RunTime</th>\n",
       "    </tr>\n",
       "  </thead>\n",
       "  <tbody>\n",
       "    <tr>\n",
       "      <th rowspan=\"2\" valign=\"top\">Ashutosh Gowariker</th>\n",
       "      <th>2001</th>\n",
       "      <th>Lagaan: Once Upon a Time in India</th>\n",
       "      <th>8.2</th>\n",
       "      <th>Romance</th>\n",
       "      <th>68900</th>\n",
       "      <th>224</th>\n",
       "    </tr>\n",
       "    <tr>\n",
       "      <th>2008</th>\n",
       "      <th>Jodhaa Akbar</th>\n",
       "      <th>7.6</th>\n",
       "      <th>Drama</th>\n",
       "      <th>17911</th>\n",
       "      <th>213</th>\n",
       "    </tr>\n",
       "    <tr>\n",
       "      <th rowspan=\"4\" valign=\"top\">Bimal Roy</th>\n",
       "      <th>1955</th>\n",
       "      <th>Do Bigha Zamin</th>\n",
       "      <th>8.4</th>\n",
       "      <th>Drama</th>\n",
       "      <th>1104</th>\n",
       "      <th>131</th>\n",
       "    </tr>\n",
       "    <tr>\n",
       "      <th>1960</th>\n",
       "      <th>Madhumati</th>\n",
       "      <th>8.1</th>\n",
       "      <th>Musical</th>\n",
       "      <th>793</th>\n",
       "      <th>110</th>\n",
       "    </tr>\n",
       "    <tr>\n",
       "      <th>1961</th>\n",
       "      <th>Sujata</th>\n",
       "      <th>7.5</th>\n",
       "      <th>Drama</th>\n",
       "      <th>191</th>\n",
       "      <th>161</th>\n",
       "    </tr>\n",
       "    <tr>\n",
       "      <th>1965</th>\n",
       "      <th>Bandini</th>\n",
       "      <th>7.8</th>\n",
       "      <th>Drama</th>\n",
       "      <th>546</th>\n",
       "      <th>157</th>\n",
       "    </tr>\n",
       "    <tr>\n",
       "      <th rowspan=\"2\" valign=\"top\">Hrishikesh Mukherjee</th>\n",
       "      <th>1973</th>\n",
       "      <th>Anand</th>\n",
       "      <th>8.9</th>\n",
       "      <th>Drama</th>\n",
       "      <th>10732</th>\n",
       "      <th>122</th>\n",
       "    </tr>\n",
       "    <tr>\n",
       "      <th>1982</th>\n",
       "      <th>Khubsoorat</th>\n",
       "      <th>7.8</th>\n",
       "      <th>Musical</th>\n",
       "      <th>939</th>\n",
       "      <th>126</th>\n",
       "    </tr>\n",
       "  </tbody>\n",
       "</table>\n",
       "</div>"
      ],
      "text/plain": [
       "Empty DataFrame\n",
       "Columns: []\n",
       "Index: [(Ashutosh Gowariker, 2001, Lagaan: Once Upon a Time in India, 8.2, Romance, 68900, 224.0), (Ashutosh Gowariker, 2008, Jodhaa Akbar, 7.6, Drama, 17911, 213.0), (Bimal Roy, 1955, Do Bigha Zamin, 8.4, Drama, 1104, 131.0), (Bimal Roy, 1960, Madhumati, 8.1, Musical, 793, 110.0), (Bimal Roy, 1961, Sujata, 7.5, Drama, 191, 161.0), (Bimal Roy, 1965, Bandini, 7.8, Drama, 546, 157.0), (Hrishikesh Mukherjee, 1973, Anand, 8.9, Drama, 10732, 122.0), (Hrishikesh Mukherjee, 1982, Khubsoorat, 7.8, Musical, 939, 126.0)]"
      ]
     },
     "execution_count": 276,
     "metadata": {},
     "output_type": "execute_result"
    }
   ],
   "source": [
    "df2.groupby(['Director','Year', 'Movie Name',\n",
    "             'Rating', 'Genre','Votes','RunTime']).count()[0:8]"
   ]
  },
  {
   "cell_type": "markdown",
   "metadata": {
    "collapsed": true,
    "slideshow": {
     "slide_type": "slide"
    }
   },
   "source": [
    "# Conclusion : \n",
    "  \n",
    "* Movies with Ratings greater than 7  \n",
    "* Run time more than 2hrs \n",
    "* Category Drama & Musical are most likely to be selcted for Best Picture"
   ]
  }
 ],
 "metadata": {
  "celltoolbar": "Slideshow",
  "kernelspec": {
   "display_name": "Python 3",
   "language": "python",
   "name": "python3"
  },
  "language_info": {
   "codemirror_mode": {
    "name": "ipython",
    "version": 3
   },
   "file_extension": ".py",
   "mimetype": "text/x-python",
   "name": "python",
   "nbconvert_exporter": "python",
   "pygments_lexer": "ipython3",
   "version": "3.5.1"
  }
 },
 "nbformat": 4,
 "nbformat_minor": 0
}
