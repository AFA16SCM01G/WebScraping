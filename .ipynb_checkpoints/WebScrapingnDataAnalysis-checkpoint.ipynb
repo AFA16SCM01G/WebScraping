{
 "cells": [
  {
   "cell_type": "markdown",
   "metadata": {
    "slideshow": {
     "slide_type": "slide"
    }
   },
   "source": [
    "# Web Scraping & Data Analysis with Selenium and Python\n",
    "\n",
    "\n",
    "\n",
    "### Vinay Babu\n",
    "\n",
    "Github: https://github.com/min2bro/WebScrapingwithSelenium\n",
    "\n",
    "Twitter: @min2bro"
   ]
  },
  {
   "cell_type": "markdown",
   "metadata": {
    "slideshow": {
     "slide_type": "slide"
    }
   },
   "source": [
    "# Data Science ToolBox"
   ]
  },
  {
   "cell_type": "markdown",
   "metadata": {
    "slideshow": {
     "slide_type": "subslide"
    }
   },
   "source": [
    "<img src=\"./img/DataScienceToolbox.png\">"
   ]
  },
  {
   "cell_type": "markdown",
   "metadata": {
    "slideshow": {
     "slide_type": "slide"
    }
   },
   "source": [
    "# IPython Notebook\n",
    "\n",
    "* Write, Edit, Replay python scripts\n",
    "* Interactive Data Visualization and report Presentation\n",
    "* Notebook can be saved and shared\n",
    "* Run Selenium Python Scripts\n",
    "\n",
    "## Pandas\n",
    "\n",
    "* Python Data Analysis Library\n",
    "\n",
    "## Matplotlib\n",
    "\n",
    "* plotting library for the Python\n",
    "\n"
   ]
  },
  {
   "cell_type": "markdown",
   "metadata": {
    "slideshow": {
     "slide_type": "slide"
    }
   },
   "source": [
    "<img src=\"./img/Steps2follow.png\">"
   ]
  },
  {
   "cell_type": "markdown",
   "metadata": {
    "slideshow": {
     "slide_type": "slide"
    }
   },
   "source": [
    "# Analysis of the Filmfare Awards for Best Picture from 1955-2015"
   ]
  },
  {
   "cell_type": "markdown",
   "metadata": {
    "slideshow": {
     "slide_type": "-"
    }
   },
   "source": [
    "<img src=\"./img/wordcloud2.jpg\">\n",
    "<img src=\"./img/wordcloud3.png\">"
   ]
  },
  {
   "cell_type": "markdown",
   "metadata": {
    "slideshow": {
     "slide_type": "slide"
    }
   },
   "source": [
    "### Web Scraping: Extracting Data from the Web"
   ]
  },
  {
   "cell_type": "markdown",
   "metadata": {
    "slideshow": {
     "slide_type": "subslide"
    }
   },
   "source": [
    "#### Some Import"
   ]
  },
  {
   "cell_type": "code",
   "execution_count": 31,
   "metadata": {
    "collapsed": false,
    "slideshow": {
     "slide_type": "-"
    }
   },
   "outputs": [],
   "source": [
    "%matplotlib inline \n",
    "from selenium import webdriver\n",
    "import os,time,json\n",
    "import pandas as pd\n",
    "from collections import defaultdict,Counter\n",
    "import matplotlib.pyplot as plt"
   ]
  },
  {
   "cell_type": "markdown",
   "metadata": {
    "slideshow": {
     "slide_type": "subslide"
    }
   },
   "source": [
    "#### Initial Setup and Launch the browser to open the URL"
   ]
  },
  {
   "cell_type": "code",
   "execution_count": 32,
   "metadata": {
    "collapsed": false,
    "slideshow": {
     "slide_type": "-"
    }
   },
   "outputs": [],
   "source": [
    "url = \"http://www.imdb.com/list/ls061683439/\"\n",
    "with open('./img/filmfare.json',encoding=\"utf-8\") as f:\n",
    "    datatbl = json.load(f)\n",
    "driver = webdriver.Chrome(datatbl['data']['chromedriver'])\n",
    "driver.get(url)"
   ]
  },
  {
   "cell_type": "markdown",
   "metadata": {
    "slideshow": {
     "slide_type": "slide"
    }
   },
   "source": [
    "### Getting Data"
   ]
  },
  {
   "cell_type": "markdown",
   "metadata": {
    "slideshow": {
     "slide_type": "subslide"
    }
   },
   "source": [
    "#### Function to extract the data from Web using Selenium"
   ]
  },
  {
   "cell_type": "code",
   "execution_count": 33,
   "metadata": {
    "collapsed": false,
    "slideshow": {
     "slide_type": "-"
    }
   },
   "outputs": [],
   "source": [
    "def ExtractText(Xpath):\n",
    "    textlist=[]\n",
    "    if(Xpath==\"Movies_Runtime_Xpath\"):\n",
    "        [textlist.append(item.text[-10:-7]) for item in driver.find_elements_by_xpath(datatbl['data'][Xpath])]\n",
    "    else:    \n",
    "        [textlist.append(item.text) for item in driver.find_elements_by_xpath(datatbl['data'][Xpath])]\n",
    "    return textlist"
   ]
  },
  {
   "cell_type": "markdown",
   "metadata": {
    "slideshow": {
     "slide_type": "subslide"
    }
   },
   "source": [
    "#### Let's extract all the required data like Ratings,Votes,Genre, Year of Release for the Best Movies"
   ]
  },
  {
   "cell_type": "code",
   "execution_count": 34,
   "metadata": {
    "collapsed": false,
    "slideshow": {
     "slide_type": "-"
    }
   },
   "outputs": [],
   "source": [
    "#Extracting Data from Web\n",
    "Movies_Votes,Movies_Name,Movies_Ratings,Movies_RunTime=[[] for i in range(4)]\n",
    "datarepo = [[]]*4\n",
    "Xpath_list = ['Movies_Name_Xpath','Movies_Rate_Xpath','Movies_Runtime_Xpath','Movies_Votes_Xpath']\n",
    "\n",
    "for i in range(4):\n",
    "    if(i==3):\n",
    "        driver.find_element_by_xpath(datatbl['data']['listview']).click()\n",
    "    datarepo[i] = ExtractText(Xpath_list[i])\n",
    "    \n",
    "driver.quit()"
   ]
  },
  {
   "cell_type": "markdown",
   "metadata": {
    "slideshow": {
     "slide_type": "slide"
    }
   },
   "source": [
    "### How does data looks now?\n",
    "#### Is this Data is in the correct format to perform data manipulation?"
   ]
  },
  {
   "cell_type": "markdown",
   "metadata": {
    "slideshow": {
     "slide_type": "subslide"
    }
   },
   "source": [
    "#### The individual movie related data is stored in a Python List, it's hard to corelated the data attributes with the respective Movies "
   ]
  },
  {
   "cell_type": "code",
   "execution_count": 35,
   "metadata": {
    "collapsed": false,
    "slideshow": {
     "slide_type": "-"
    }
   },
   "outputs": [
    {
     "name": "stdout",
     "output_type": "stream",
     "text": [
      "['Bajirao Mastani', 'Queen', 'Bhaag Milkha Bhaag', 'Barfi!', 'Zindagi Na Milegi Dobara']\n",
      "['17,283', '39,478', '39,688', '52,270', '41,706']\n"
     ]
    }
   ],
   "source": [
    "# Movie Name List & Ratings\n",
    "print(datarepo[0][:5])\n",
    "print(datarepo[3][:5])"
   ]
  },
  {
   "cell_type": "markdown",
   "metadata": {
    "slideshow": {
     "slide_type": "slide"
    }
   },
   "source": [
    "### Store Data in a  Python Dictionary"
   ]
  },
  {
   "cell_type": "markdown",
   "metadata": {
    "slideshow": {
     "slide_type": "subslide"
    }
   },
   "source": [
    "#### The data is stored in a python dictionary which is more structured way to store the data here and all the movie attributes are now linked with the respective movie"
   ]
  },
  {
   "cell_type": "code",
   "execution_count": 36,
   "metadata": {
    "collapsed": false,
    "slideshow": {
     "slide_type": "-"
    }
   },
   "outputs": [],
   "source": [
    "# Result in a Python Dictionary\n",
    "Years=range(2015,1954,-1)\n",
    "result = defaultdict(dict)\n",
    "for i in range(0,len(datarepo[0])):\n",
    "    result[i]['Movie Name']= datarepo[0][i]\n",
    "    result[i]['Year']= Years[i]\n",
    "    result[i]['Rating']= datarepo[1][i]\n",
    "    result[i]['Votes']= datarepo[3][i]\n",
    "    result[i]['RunTime']= datarepo[2][i]\n"
   ]
  },
  {
   "cell_type": "markdown",
   "metadata": {
    "slideshow": {
     "slide_type": "slide"
    }
   },
   "source": [
    "### Let's see now how the data in dictionary looks like?"
   ]
  },
  {
   "cell_type": "code",
   "execution_count": 37,
   "metadata": {
    "collapsed": false,
    "slideshow": {
     "slide_type": "subslide"
    }
   },
   "outputs": [
    {
     "data": {
      "text/plain": [
       "defaultdict(dict,\n",
       "            {0: {'Movie Name': 'Bajirao Mastani',\n",
       "              'Rating': '7.2',\n",
       "              'RunTime': '158',\n",
       "              'Votes': '17,283',\n",
       "              'Year': 2015},\n",
       "             1: {'Movie Name': 'Queen',\n",
       "              'Rating': '8.4',\n",
       "              'RunTime': '146',\n",
       "              'Votes': '39,478',\n",
       "              'Year': 2014},\n",
       "             2: {'Movie Name': 'Bhaag Milkha Bhaag',\n",
       "              'Rating': '8.3',\n",
       "              'RunTime': '186',\n",
       "              'Votes': '39,688',\n",
       "              'Year': 2013},\n",
       "             3: {'Movie Name': 'Barfi!',\n",
       "              'Rating': '8.2',\n",
       "              'RunTime': '151',\n",
       "              'Votes': '52,270',\n",
       "              'Year': 2012},\n",
       "             4: {'Movie Name': 'Zindagi Na Milegi Dobara',\n",
       "              'Rating': '8.1',\n",
       "              'RunTime': '155',\n",
       "              'Votes': '41,706',\n",
       "              'Year': 2011},\n",
       "             5: {'Movie Name': 'Dabangg',\n",
       "              'Rating': '6.3',\n",
       "              'RunTime': '126',\n",
       "              'Votes': '19,768',\n",
       "              'Year': 2010},\n",
       "             6: {'Movie Name': '3 Idiots',\n",
       "              'Rating': '8.4',\n",
       "              'RunTime': '170',\n",
       "              'Votes': '200,956',\n",
       "              'Year': 2009},\n",
       "             7: {'Movie Name': 'Jodhaa Akbar',\n",
       "              'Rating': '7.6',\n",
       "              'RunTime': '213',\n",
       "              'Votes': '17,902',\n",
       "              'Year': 2008},\n",
       "             8: {'Movie Name': 'Like Stars on Earth',\n",
       "              'Rating': '8.5',\n",
       "              'RunTime': '165',\n",
       "              'Votes': '82,648',\n",
       "              'Year': 2007},\n",
       "             9: {'Movie Name': 'Rang De Basanti',\n",
       "              'Rating': '8.4',\n",
       "              'RunTime': '157',\n",
       "              'Votes': '68,550',\n",
       "              'Year': 2006},\n",
       "             10: {'Movie Name': 'Black',\n",
       "              'Rating': '8.3',\n",
       "              'RunTime': '122',\n",
       "              'Votes': '22,851',\n",
       "              'Year': 2005},\n",
       "             11: {'Movie Name': 'Veer-Zaara',\n",
       "              'Rating': '7.9',\n",
       "              'RunTime': '192',\n",
       "              'Votes': '33,468',\n",
       "              'Year': 2004},\n",
       "             12: {'Movie Name': 'Koi... Mil Gaya',\n",
       "              'Rating': '7.1',\n",
       "              'RunTime': '171',\n",
       "              'Votes': '12,003',\n",
       "              'Year': 2003},\n",
       "             13: {'Movie Name': 'Devdas',\n",
       "              'Rating': '7.6',\n",
       "              'RunTime': '185',\n",
       "              'Votes': '25,162',\n",
       "              'Year': 2002},\n",
       "             14: {'Movie Name': 'Lagaan: Once Upon a Time in India',\n",
       "              'Rating': '8.2',\n",
       "              'RunTime': '224',\n",
       "              'Votes': '68,811',\n",
       "              'Year': 2001},\n",
       "             15: {'Movie Name': 'Kaho Naa... Pyaar Hai',\n",
       "              'Rating': '6.9',\n",
       "              'RunTime': '172',\n",
       "              'Votes': '7,871',\n",
       "              'Year': 2000},\n",
       "             16: {'Movie Name': 'Straight from the Heart',\n",
       "              'Rating': '7.6',\n",
       "              'RunTime': '188',\n",
       "              'Votes': '9,793',\n",
       "              'Year': 1999},\n",
       "             17: {'Movie Name': 'Kuch Kuch Hota Hai',\n",
       "              'Rating': '7.8',\n",
       "              'RunTime': '177',\n",
       "              'Votes': '31,483',\n",
       "              'Year': 1998},\n",
       "             18: {'Movie Name': 'Dil To Pagal Hai',\n",
       "              'Rating': '7.1',\n",
       "              'RunTime': '179',\n",
       "              'Votes': '13,890',\n",
       "              'Year': 1997},\n",
       "             19: {'Movie Name': 'Raja Hindustani',\n",
       "              'Rating': '6.1',\n",
       "              'RunTime': '165',\n",
       "              'Votes': '4,802',\n",
       "              'Year': 1996},\n",
       "             20: {'Movie Name': 'Dilwale Dulhania Le Jayenge',\n",
       "              'Rating': '8.3',\n",
       "              'RunTime': '189',\n",
       "              'Votes': '42,056',\n",
       "              'Year': 1995},\n",
       "             21: {'Movie Name': 'Hum Aapke Hain Koun...!',\n",
       "              'Rating': '7.7',\n",
       "              'RunTime': '206',\n",
       "              'Votes': '10,945',\n",
       "              'Year': 1994},\n",
       "             22: {'Movie Name': 'Hum Hain Rahi Pyar Ke',\n",
       "              'Rating': '7.5',\n",
       "              'RunTime': '163',\n",
       "              'Votes': '3,443',\n",
       "              'Year': 1993},\n",
       "             23: {'Movie Name': 'Jo Jeeta Wohi Sikandar',\n",
       "              'Rating': '8.3',\n",
       "              'RunTime': '174',\n",
       "              'Votes': '12,286',\n",
       "              'Year': 1992},\n",
       "             24: {'Movie Name': 'Lamhe',\n",
       "              'Rating': '7.4',\n",
       "              'RunTime': '187',\n",
       "              'Votes': '1,928',\n",
       "              'Year': 1991},\n",
       "             25: {'Movie Name': 'Ghayal',\n",
       "              'Rating': '7.6',\n",
       "              'RunTime': '163',\n",
       "              'Votes': '2,631',\n",
       "              'Year': 1990},\n",
       "             26: {'Movie Name': 'Maine Pyar Kiya',\n",
       "              'Rating': '7.5',\n",
       "              'RunTime': '192',\n",
       "              'Votes': '5,799',\n",
       "              'Year': 1989},\n",
       "             27: {'Movie Name': 'Qayamat Se Qayamat Tak',\n",
       "              'Rating': '7.6',\n",
       "              'RunTime': '162',\n",
       "              'Votes': '6,161',\n",
       "              'Year': 1988},\n",
       "             28: {'Movie Name': 'Ram Teri Ganga Maili',\n",
       "              'Rating': '6.8',\n",
       "              'RunTime': '178',\n",
       "              'Votes': '686',\n",
       "              'Year': 1987},\n",
       "             29: {'Movie Name': 'Sparsh',\n",
       "              'Rating': '8.1',\n",
       "              'RunTime': '145',\n",
       "              'Votes': '380',\n",
       "              'Year': 1986},\n",
       "             30: {'Movie Name': 'Ardh Satya',\n",
       "              'Rating': '8.2',\n",
       "              'RunTime': '130',\n",
       "              'Votes': '1,080',\n",
       "              'Year': 1985},\n",
       "             31: {'Movie Name': 'Shakti',\n",
       "              'Rating': '7.9',\n",
       "              'RunTime': '166',\n",
       "              'Votes': '1,347',\n",
       "              'Year': 1984},\n",
       "             32: {'Movie Name': 'Kalyug',\n",
       "              'Rating': '7.8',\n",
       "              'RunTime': '152',\n",
       "              'Votes': '369',\n",
       "              'Year': 1983},\n",
       "             33: {'Movie Name': 'Khubsoorat',\n",
       "              'Rating': '7.8',\n",
       "              'RunTime': '126',\n",
       "              'Votes': '938',\n",
       "              'Year': 1982},\n",
       "             34: {'Movie Name': 'Junoon',\n",
       "              'Rating': '7.6',\n",
       "              'RunTime': '141',\n",
       "              'Votes': '341',\n",
       "              'Year': 1981},\n",
       "             35: {'Movie Name': 'Main Tulsi Tere Aangan Ki',\n",
       "              'Rating': '7.4',\n",
       "              'RunTime': '151',\n",
       "              'Votes': '75',\n",
       "              'Year': 1980},\n",
       "             36: {'Movie Name': 'Bhumika',\n",
       "              'Rating': '7.6',\n",
       "              'RunTime': '142',\n",
       "              'Votes': '311',\n",
       "              'Year': 1979},\n",
       "             37: {'Movie Name': 'Mausam',\n",
       "              'Rating': '8.1',\n",
       "              'RunTime': '156',\n",
       "              'Votes': '563',\n",
       "              'Year': 1978},\n",
       "             38: {'Movie Name': 'Deewaar',\n",
       "              'Rating': '8.2',\n",
       "              'RunTime': '174',\n",
       "              'Votes': '5,567',\n",
       "              'Year': 1977},\n",
       "             39: {'Movie Name': 'Rajnigandha',\n",
       "              'Rating': '7.5',\n",
       "              'RunTime': '110',\n",
       "              'Votes': '315',\n",
       "              'Year': 1976},\n",
       "             40: {'Movie Name': 'Anuraag',\n",
       "              'Rating': '7.4',\n",
       "              'RunTime': 'nes',\n",
       "              'Votes': '45',\n",
       "              'Year': 1975},\n",
       "             41: {'Movie Name': 'Be-Imaan',\n",
       "              'Rating': '7.4',\n",
       "              'RunTime': '133',\n",
       "              'Votes': '57',\n",
       "              'Year': 1974},\n",
       "             42: {'Movie Name': 'Anand',\n",
       "              'Rating': '8.9',\n",
       "              'RunTime': '122',\n",
       "              'Votes': '10,718',\n",
       "              'Year': 1973},\n",
       "             43: {'Movie Name': 'Toy',\n",
       "              'Rating': '7.3',\n",
       "              'RunTime': '160',\n",
       "              'Votes': '229',\n",
       "              'Year': 1972},\n",
       "             44: {'Movie Name': 'Aradhana',\n",
       "              'Rating': '7.7',\n",
       "              'RunTime': '169',\n",
       "              'Votes': '1,091',\n",
       "              'Year': 1971},\n",
       "             45: {'Movie Name': 'Brahmachari',\n",
       "              'Rating': '6.8',\n",
       "              'RunTime': '157',\n",
       "              'Votes': '239',\n",
       "              'Year': 1970},\n",
       "             46: {'Movie Name': 'Upkar',\n",
       "              'Rating': '7.7',\n",
       "              'RunTime': '175',\n",
       "              'Votes': '364',\n",
       "              'Year': 1969},\n",
       "             47: {'Movie Name': 'Guide',\n",
       "              'Rating': '8.6',\n",
       "              'RunTime': '183',\n",
       "              'Votes': '3,950',\n",
       "              'Year': 1968},\n",
       "             48: {'Movie Name': 'Himalay Ki Godmein',\n",
       "              'Rating': '7.2',\n",
       "              'RunTime': 'stu',\n",
       "              'Votes': '57',\n",
       "              'Year': 1967},\n",
       "             49: {'Movie Name': 'Dosti',\n",
       "              'Rating': '8.4',\n",
       "              'RunTime': '163',\n",
       "              'Votes': '1,010',\n",
       "              'Year': 1966},\n",
       "             50: {'Movie Name': 'Bandini',\n",
       "              'Rating': '7.8',\n",
       "              'RunTime': '157',\n",
       "              'Votes': '546',\n",
       "              'Year': 1965},\n",
       "             51: {'Movie Name': 'Sahib Bibi Aur Ghulam',\n",
       "              'Rating': '8.4',\n",
       "              'RunTime': '152',\n",
       "              'Votes': '1,076',\n",
       "              'Year': 1964},\n",
       "             52: {'Movie Name': 'Jis Desh Men Ganga Behti Hai',\n",
       "              'Rating': '7.3',\n",
       "              'RunTime': '167',\n",
       "              'Votes': '301',\n",
       "              'Year': 1963},\n",
       "             53: {'Movie Name': 'Mughal-E-Azam',\n",
       "              'Rating': '8.4',\n",
       "              'RunTime': '197',\n",
       "              'Votes': '3,868',\n",
       "              'Year': 1962},\n",
       "             54: {'Movie Name': 'Sujata',\n",
       "              'Rating': '7.5',\n",
       "              'RunTime': '161',\n",
       "              'Votes': '191',\n",
       "              'Year': 1961},\n",
       "             55: {'Movie Name': 'Madhumati',\n",
       "              'Rating': '8.1',\n",
       "              'RunTime': '110',\n",
       "              'Votes': '793',\n",
       "              'Year': 1960},\n",
       "             56: {'Movie Name': 'Mother India',\n",
       "              'Rating': '8.1',\n",
       "              'RunTime': '172',\n",
       "              'Votes': '4,842',\n",
       "              'Year': 1959},\n",
       "             57: {'Movie Name': 'Jhanak Jhanak Payal Baaje',\n",
       "              'Rating': '7.3',\n",
       "              'RunTime': '143',\n",
       "              'Votes': '68',\n",
       "              'Year': 1958},\n",
       "             58: {'Movie Name': 'Jagriti',\n",
       "              'Rating': '7.8',\n",
       "              'RunTime': 'sti',\n",
       "              'Votes': '82',\n",
       "              'Year': 1957},\n",
       "             59: {'Movie Name': 'Boot Polish',\n",
       "              'Rating': '8.1',\n",
       "              'RunTime': '149',\n",
       "              'Votes': '498',\n",
       "              'Year': 1956},\n",
       "             60: {'Movie Name': 'Do Bigha Zamin',\n",
       "              'Rating': '8.4',\n",
       "              'RunTime': '131',\n",
       "              'Votes': '1,104',\n",
       "              'Year': 1955}})"
      ]
     },
     "execution_count": 37,
     "metadata": {},
     "output_type": "execute_result"
    }
   ],
   "source": [
    "result"
   ]
  },
  {
   "cell_type": "code",
   "execution_count": 38,
   "metadata": {
    "collapsed": false,
    "slideshow": {
     "slide_type": "subslide"
    }
   },
   "outputs": [
    {
     "name": "stdout",
     "output_type": "stream",
     "text": [
      "{\n",
      "  \"Movie Name\": \"Jagriti\",\n",
      "  \"Rating\": \"7.8\",\n",
      "  \"Year\": 1957,\n",
      "  \"RunTime\": \"sti\",\n",
      "  \"Votes\": \"82\"\n",
      "}\n"
     ]
    }
   ],
   "source": [
    "print(json.dumps(result[58], indent=2))"
   ]
  },
  {
   "cell_type": "markdown",
   "metadata": {
    "slideshow": {
     "slide_type": "-"
    }
   },
   "source": [
    "#### Oh! Something is wrong with the data, It's not in right shape to perform analysis on this data set"
   ]
  },
  {
   "cell_type": "markdown",
   "metadata": {
    "slideshow": {
     "slide_type": "slide"
    }
   },
   "source": [
    "### Let's clean the data"
   ]
  },
  {
   "cell_type": "markdown",
   "metadata": {
    "slideshow": {
     "slide_type": "subslide"
    }
   },
   "source": [
    "* Replace the comma(,) in Vote Value and change the data type to int\n",
    "* Change the Data type for Rating and RunTime"
   ]
  },
  {
   "cell_type": "code",
   "execution_count": 39,
   "metadata": {
    "collapsed": false,
    "slideshow": {
     "slide_type": "-"
    }
   },
   "outputs": [],
   "source": [
    "for key,values in result.items():\n",
    "    values['Votes'] = int(values['Votes'].replace(\",\",\"\"))\n",
    "    values['Rating']= float(values['Rating'])\n",
    "    try:\n",
    "        values['RunTime'] = int(values['RunTime'])\n",
    "    except ValueError:\n",
    "        values['RunTime'] = 154\n",
    "        \n",
    "    "
   ]
  },
  {
   "cell_type": "markdown",
   "metadata": {},
   "source": [
    "#### Now let's look at the data and see how it looks like"
   ]
  },
  {
   "cell_type": "code",
   "execution_count": 40,
   "metadata": {
    "collapsed": false,
    "slideshow": {
     "slide_type": "subslide"
    }
   },
   "outputs": [
    {
     "data": {
      "text/plain": [
       "{'Movie Name': 'Jagriti',\n",
       " 'Rating': 7.8,\n",
       " 'RunTime': 154,\n",
       " 'Votes': 82,\n",
       " 'Year': 1957}"
      ]
     },
     "execution_count": 40,
     "metadata": {},
     "output_type": "execute_result"
    }
   ],
   "source": [
    "result[58]"
   ]
  },
  {
   "cell_type": "markdown",
   "metadata": {
    "slideshow": {
     "slide_type": "slide"
    }
   },
   "source": [
    "### Data in Pandas Dataframe"
   ]
  },
  {
   "cell_type": "markdown",
   "metadata": {
    "slideshow": {
     "slide_type": "subslide"
    }
   },
   "source": [
    "#### Data is consumed in a Pandas Dataframe, Which is more convenient way to perform data analysis,manipulation or aggregation"
   ]
  },
  {
   "cell_type": "code",
   "execution_count": 55,
   "metadata": {
    "collapsed": false,
    "scrolled": false,
    "slideshow": {
     "slide_type": "-"
    }
   },
   "outputs": [
    {
     "data": {
      "text/html": [
       "<div>\n",
       "<table border=\"1\" class=\"dataframe\">\n",
       "  <thead>\n",
       "    <tr style=\"text-align: right;\">\n",
       "      <th></th>\n",
       "      <th>Year</th>\n",
       "      <th>Movie Name</th>\n",
       "      <th>Rating</th>\n",
       "      <th>Votes</th>\n",
       "      <th>RunTime</th>\n",
       "    </tr>\n",
       "  </thead>\n",
       "  <tbody>\n",
       "    <tr>\n",
       "      <th>0</th>\n",
       "      <td>2015</td>\n",
       "      <td>Bajirao Mastani</td>\n",
       "      <td>7.2</td>\n",
       "      <td>17283</td>\n",
       "      <td>158</td>\n",
       "    </tr>\n",
       "    <tr>\n",
       "      <th>1</th>\n",
       "      <td>2014</td>\n",
       "      <td>Queen</td>\n",
       "      <td>8.4</td>\n",
       "      <td>39478</td>\n",
       "      <td>146</td>\n",
       "    </tr>\n",
       "    <tr>\n",
       "      <th>2</th>\n",
       "      <td>2013</td>\n",
       "      <td>Bhaag Milkha Bhaag</td>\n",
       "      <td>8.3</td>\n",
       "      <td>39688</td>\n",
       "      <td>186</td>\n",
       "    </tr>\n",
       "    <tr>\n",
       "      <th>3</th>\n",
       "      <td>2012</td>\n",
       "      <td>Barfi!</td>\n",
       "      <td>8.2</td>\n",
       "      <td>52270</td>\n",
       "      <td>151</td>\n",
       "    </tr>\n",
       "    <tr>\n",
       "      <th>4</th>\n",
       "      <td>2011</td>\n",
       "      <td>Zindagi Na Milegi Dobara</td>\n",
       "      <td>8.1</td>\n",
       "      <td>41706</td>\n",
       "      <td>155</td>\n",
       "    </tr>\n",
       "    <tr>\n",
       "      <th>5</th>\n",
       "      <td>2010</td>\n",
       "      <td>Dabangg</td>\n",
       "      <td>6.3</td>\n",
       "      <td>19768</td>\n",
       "      <td>126</td>\n",
       "    </tr>\n",
       "    <tr>\n",
       "      <th>6</th>\n",
       "      <td>2009</td>\n",
       "      <td>3 Idiots</td>\n",
       "      <td>8.4</td>\n",
       "      <td>200956</td>\n",
       "      <td>170</td>\n",
       "    </tr>\n",
       "    <tr>\n",
       "      <th>7</th>\n",
       "      <td>2008</td>\n",
       "      <td>Jodhaa Akbar</td>\n",
       "      <td>7.6</td>\n",
       "      <td>17902</td>\n",
       "      <td>213</td>\n",
       "    </tr>\n",
       "    <tr>\n",
       "      <th>8</th>\n",
       "      <td>2007</td>\n",
       "      <td>Like Stars on Earth</td>\n",
       "      <td>8.5</td>\n",
       "      <td>82648</td>\n",
       "      <td>165</td>\n",
       "    </tr>\n",
       "    <tr>\n",
       "      <th>9</th>\n",
       "      <td>2006</td>\n",
       "      <td>Rang De Basanti</td>\n",
       "      <td>8.4</td>\n",
       "      <td>68550</td>\n",
       "      <td>157</td>\n",
       "    </tr>\n",
       "    <tr>\n",
       "      <th>10</th>\n",
       "      <td>2005</td>\n",
       "      <td>Black</td>\n",
       "      <td>8.3</td>\n",
       "      <td>22851</td>\n",
       "      <td>122</td>\n",
       "    </tr>\n",
       "    <tr>\n",
       "      <th>11</th>\n",
       "      <td>2004</td>\n",
       "      <td>Veer-Zaara</td>\n",
       "      <td>7.9</td>\n",
       "      <td>33468</td>\n",
       "      <td>192</td>\n",
       "    </tr>\n",
       "    <tr>\n",
       "      <th>12</th>\n",
       "      <td>2003</td>\n",
       "      <td>Koi... Mil Gaya</td>\n",
       "      <td>7.1</td>\n",
       "      <td>12003</td>\n",
       "      <td>171</td>\n",
       "    </tr>\n",
       "    <tr>\n",
       "      <th>13</th>\n",
       "      <td>2002</td>\n",
       "      <td>Devdas</td>\n",
       "      <td>7.6</td>\n",
       "      <td>25162</td>\n",
       "      <td>185</td>\n",
       "    </tr>\n",
       "    <tr>\n",
       "      <th>14</th>\n",
       "      <td>2001</td>\n",
       "      <td>Lagaan: Once Upon a Time in India</td>\n",
       "      <td>8.2</td>\n",
       "      <td>68811</td>\n",
       "      <td>224</td>\n",
       "    </tr>\n",
       "    <tr>\n",
       "      <th>15</th>\n",
       "      <td>2000</td>\n",
       "      <td>Kaho Naa... Pyaar Hai</td>\n",
       "      <td>6.9</td>\n",
       "      <td>7871</td>\n",
       "      <td>172</td>\n",
       "    </tr>\n",
       "    <tr>\n",
       "      <th>16</th>\n",
       "      <td>1999</td>\n",
       "      <td>Straight from the Heart</td>\n",
       "      <td>7.6</td>\n",
       "      <td>9793</td>\n",
       "      <td>188</td>\n",
       "    </tr>\n",
       "    <tr>\n",
       "      <th>17</th>\n",
       "      <td>1998</td>\n",
       "      <td>Kuch Kuch Hota Hai</td>\n",
       "      <td>7.8</td>\n",
       "      <td>31483</td>\n",
       "      <td>177</td>\n",
       "    </tr>\n",
       "    <tr>\n",
       "      <th>18</th>\n",
       "      <td>1997</td>\n",
       "      <td>Dil To Pagal Hai</td>\n",
       "      <td>7.1</td>\n",
       "      <td>13890</td>\n",
       "      <td>179</td>\n",
       "    </tr>\n",
       "    <tr>\n",
       "      <th>19</th>\n",
       "      <td>1996</td>\n",
       "      <td>Raja Hindustani</td>\n",
       "      <td>6.1</td>\n",
       "      <td>4802</td>\n",
       "      <td>165</td>\n",
       "    </tr>\n",
       "    <tr>\n",
       "      <th>20</th>\n",
       "      <td>1995</td>\n",
       "      <td>Dilwale Dulhania Le Jayenge</td>\n",
       "      <td>8.3</td>\n",
       "      <td>42056</td>\n",
       "      <td>189</td>\n",
       "    </tr>\n",
       "    <tr>\n",
       "      <th>21</th>\n",
       "      <td>1994</td>\n",
       "      <td>Hum Aapke Hain Koun...!</td>\n",
       "      <td>7.7</td>\n",
       "      <td>10945</td>\n",
       "      <td>206</td>\n",
       "    </tr>\n",
       "    <tr>\n",
       "      <th>22</th>\n",
       "      <td>1993</td>\n",
       "      <td>Hum Hain Rahi Pyar Ke</td>\n",
       "      <td>7.5</td>\n",
       "      <td>3443</td>\n",
       "      <td>163</td>\n",
       "    </tr>\n",
       "    <tr>\n",
       "      <th>23</th>\n",
       "      <td>1992</td>\n",
       "      <td>Jo Jeeta Wohi Sikandar</td>\n",
       "      <td>8.3</td>\n",
       "      <td>12286</td>\n",
       "      <td>174</td>\n",
       "    </tr>\n",
       "    <tr>\n",
       "      <th>24</th>\n",
       "      <td>1991</td>\n",
       "      <td>Lamhe</td>\n",
       "      <td>7.4</td>\n",
       "      <td>1928</td>\n",
       "      <td>187</td>\n",
       "    </tr>\n",
       "    <tr>\n",
       "      <th>25</th>\n",
       "      <td>1990</td>\n",
       "      <td>Ghayal</td>\n",
       "      <td>7.6</td>\n",
       "      <td>2631</td>\n",
       "      <td>163</td>\n",
       "    </tr>\n",
       "    <tr>\n",
       "      <th>26</th>\n",
       "      <td>1989</td>\n",
       "      <td>Maine Pyar Kiya</td>\n",
       "      <td>7.5</td>\n",
       "      <td>5799</td>\n",
       "      <td>192</td>\n",
       "    </tr>\n",
       "    <tr>\n",
       "      <th>27</th>\n",
       "      <td>1988</td>\n",
       "      <td>Qayamat Se Qayamat Tak</td>\n",
       "      <td>7.6</td>\n",
       "      <td>6161</td>\n",
       "      <td>162</td>\n",
       "    </tr>\n",
       "    <tr>\n",
       "      <th>28</th>\n",
       "      <td>1987</td>\n",
       "      <td>Ram Teri Ganga Maili</td>\n",
       "      <td>6.8</td>\n",
       "      <td>686</td>\n",
       "      <td>178</td>\n",
       "    </tr>\n",
       "    <tr>\n",
       "      <th>29</th>\n",
       "      <td>1986</td>\n",
       "      <td>Sparsh</td>\n",
       "      <td>8.1</td>\n",
       "      <td>380</td>\n",
       "      <td>145</td>\n",
       "    </tr>\n",
       "    <tr>\n",
       "      <th>...</th>\n",
       "      <td>...</td>\n",
       "      <td>...</td>\n",
       "      <td>...</td>\n",
       "      <td>...</td>\n",
       "      <td>...</td>\n",
       "    </tr>\n",
       "    <tr>\n",
       "      <th>31</th>\n",
       "      <td>1984</td>\n",
       "      <td>Shakti</td>\n",
       "      <td>7.9</td>\n",
       "      <td>1347</td>\n",
       "      <td>166</td>\n",
       "    </tr>\n",
       "    <tr>\n",
       "      <th>32</th>\n",
       "      <td>1983</td>\n",
       "      <td>Kalyug</td>\n",
       "      <td>7.8</td>\n",
       "      <td>369</td>\n",
       "      <td>152</td>\n",
       "    </tr>\n",
       "    <tr>\n",
       "      <th>33</th>\n",
       "      <td>1982</td>\n",
       "      <td>Khubsoorat</td>\n",
       "      <td>7.8</td>\n",
       "      <td>938</td>\n",
       "      <td>126</td>\n",
       "    </tr>\n",
       "    <tr>\n",
       "      <th>34</th>\n",
       "      <td>1981</td>\n",
       "      <td>Junoon</td>\n",
       "      <td>7.6</td>\n",
       "      <td>341</td>\n",
       "      <td>141</td>\n",
       "    </tr>\n",
       "    <tr>\n",
       "      <th>35</th>\n",
       "      <td>1980</td>\n",
       "      <td>Main Tulsi Tere Aangan Ki</td>\n",
       "      <td>7.4</td>\n",
       "      <td>75</td>\n",
       "      <td>151</td>\n",
       "    </tr>\n",
       "    <tr>\n",
       "      <th>36</th>\n",
       "      <td>1979</td>\n",
       "      <td>Bhumika</td>\n",
       "      <td>7.6</td>\n",
       "      <td>311</td>\n",
       "      <td>142</td>\n",
       "    </tr>\n",
       "    <tr>\n",
       "      <th>37</th>\n",
       "      <td>1978</td>\n",
       "      <td>Mausam</td>\n",
       "      <td>8.1</td>\n",
       "      <td>563</td>\n",
       "      <td>156</td>\n",
       "    </tr>\n",
       "    <tr>\n",
       "      <th>38</th>\n",
       "      <td>1977</td>\n",
       "      <td>Deewaar</td>\n",
       "      <td>8.2</td>\n",
       "      <td>5567</td>\n",
       "      <td>174</td>\n",
       "    </tr>\n",
       "    <tr>\n",
       "      <th>39</th>\n",
       "      <td>1976</td>\n",
       "      <td>Rajnigandha</td>\n",
       "      <td>7.5</td>\n",
       "      <td>315</td>\n",
       "      <td>110</td>\n",
       "    </tr>\n",
       "    <tr>\n",
       "      <th>40</th>\n",
       "      <td>1975</td>\n",
       "      <td>Anuraag</td>\n",
       "      <td>7.4</td>\n",
       "      <td>45</td>\n",
       "      <td>154</td>\n",
       "    </tr>\n",
       "    <tr>\n",
       "      <th>41</th>\n",
       "      <td>1974</td>\n",
       "      <td>Be-Imaan</td>\n",
       "      <td>7.4</td>\n",
       "      <td>57</td>\n",
       "      <td>133</td>\n",
       "    </tr>\n",
       "    <tr>\n",
       "      <th>42</th>\n",
       "      <td>1973</td>\n",
       "      <td>Anand</td>\n",
       "      <td>8.9</td>\n",
       "      <td>10718</td>\n",
       "      <td>122</td>\n",
       "    </tr>\n",
       "    <tr>\n",
       "      <th>43</th>\n",
       "      <td>1972</td>\n",
       "      <td>Toy</td>\n",
       "      <td>7.3</td>\n",
       "      <td>229</td>\n",
       "      <td>160</td>\n",
       "    </tr>\n",
       "    <tr>\n",
       "      <th>44</th>\n",
       "      <td>1971</td>\n",
       "      <td>Aradhana</td>\n",
       "      <td>7.7</td>\n",
       "      <td>1091</td>\n",
       "      <td>169</td>\n",
       "    </tr>\n",
       "    <tr>\n",
       "      <th>45</th>\n",
       "      <td>1970</td>\n",
       "      <td>Brahmachari</td>\n",
       "      <td>6.8</td>\n",
       "      <td>239</td>\n",
       "      <td>157</td>\n",
       "    </tr>\n",
       "    <tr>\n",
       "      <th>46</th>\n",
       "      <td>1969</td>\n",
       "      <td>Upkar</td>\n",
       "      <td>7.7</td>\n",
       "      <td>364</td>\n",
       "      <td>175</td>\n",
       "    </tr>\n",
       "    <tr>\n",
       "      <th>47</th>\n",
       "      <td>1968</td>\n",
       "      <td>Guide</td>\n",
       "      <td>8.6</td>\n",
       "      <td>3950</td>\n",
       "      <td>183</td>\n",
       "    </tr>\n",
       "    <tr>\n",
       "      <th>48</th>\n",
       "      <td>1967</td>\n",
       "      <td>Himalay Ki Godmein</td>\n",
       "      <td>7.2</td>\n",
       "      <td>57</td>\n",
       "      <td>154</td>\n",
       "    </tr>\n",
       "    <tr>\n",
       "      <th>49</th>\n",
       "      <td>1966</td>\n",
       "      <td>Dosti</td>\n",
       "      <td>8.4</td>\n",
       "      <td>1010</td>\n",
       "      <td>163</td>\n",
       "    </tr>\n",
       "    <tr>\n",
       "      <th>50</th>\n",
       "      <td>1965</td>\n",
       "      <td>Bandini</td>\n",
       "      <td>7.8</td>\n",
       "      <td>546</td>\n",
       "      <td>157</td>\n",
       "    </tr>\n",
       "    <tr>\n",
       "      <th>51</th>\n",
       "      <td>1964</td>\n",
       "      <td>Sahib Bibi Aur Ghulam</td>\n",
       "      <td>8.4</td>\n",
       "      <td>1076</td>\n",
       "      <td>152</td>\n",
       "    </tr>\n",
       "    <tr>\n",
       "      <th>52</th>\n",
       "      <td>1963</td>\n",
       "      <td>Jis Desh Men Ganga Behti Hai</td>\n",
       "      <td>7.3</td>\n",
       "      <td>301</td>\n",
       "      <td>167</td>\n",
       "    </tr>\n",
       "    <tr>\n",
       "      <th>53</th>\n",
       "      <td>1962</td>\n",
       "      <td>Mughal-E-Azam</td>\n",
       "      <td>8.4</td>\n",
       "      <td>3868</td>\n",
       "      <td>197</td>\n",
       "    </tr>\n",
       "    <tr>\n",
       "      <th>54</th>\n",
       "      <td>1961</td>\n",
       "      <td>Sujata</td>\n",
       "      <td>7.5</td>\n",
       "      <td>191</td>\n",
       "      <td>161</td>\n",
       "    </tr>\n",
       "    <tr>\n",
       "      <th>55</th>\n",
       "      <td>1960</td>\n",
       "      <td>Madhumati</td>\n",
       "      <td>8.1</td>\n",
       "      <td>793</td>\n",
       "      <td>110</td>\n",
       "    </tr>\n",
       "    <tr>\n",
       "      <th>56</th>\n",
       "      <td>1959</td>\n",
       "      <td>Mother India</td>\n",
       "      <td>8.1</td>\n",
       "      <td>4842</td>\n",
       "      <td>172</td>\n",
       "    </tr>\n",
       "    <tr>\n",
       "      <th>57</th>\n",
       "      <td>1958</td>\n",
       "      <td>Jhanak Jhanak Payal Baaje</td>\n",
       "      <td>7.3</td>\n",
       "      <td>68</td>\n",
       "      <td>143</td>\n",
       "    </tr>\n",
       "    <tr>\n",
       "      <th>58</th>\n",
       "      <td>1957</td>\n",
       "      <td>Jagriti</td>\n",
       "      <td>7.8</td>\n",
       "      <td>82</td>\n",
       "      <td>154</td>\n",
       "    </tr>\n",
       "    <tr>\n",
       "      <th>59</th>\n",
       "      <td>1956</td>\n",
       "      <td>Boot Polish</td>\n",
       "      <td>8.1</td>\n",
       "      <td>498</td>\n",
       "      <td>149</td>\n",
       "    </tr>\n",
       "    <tr>\n",
       "      <th>60</th>\n",
       "      <td>1955</td>\n",
       "      <td>Do Bigha Zamin</td>\n",
       "      <td>8.4</td>\n",
       "      <td>1104</td>\n",
       "      <td>131</td>\n",
       "    </tr>\n",
       "  </tbody>\n",
       "</table>\n",
       "<p>61 rows × 5 columns</p>\n",
       "</div>"
      ],
      "text/plain": [
       "    Year                         Movie Name  Rating   Votes  RunTime\n",
       "0   2015                    Bajirao Mastani     7.2   17283      158\n",
       "1   2014                              Queen     8.4   39478      146\n",
       "2   2013                 Bhaag Milkha Bhaag     8.3   39688      186\n",
       "3   2012                             Barfi!     8.2   52270      151\n",
       "4   2011           Zindagi Na Milegi Dobara     8.1   41706      155\n",
       "5   2010                            Dabangg     6.3   19768      126\n",
       "6   2009                           3 Idiots     8.4  200956      170\n",
       "7   2008                       Jodhaa Akbar     7.6   17902      213\n",
       "8   2007                Like Stars on Earth     8.5   82648      165\n",
       "9   2006                    Rang De Basanti     8.4   68550      157\n",
       "10  2005                              Black     8.3   22851      122\n",
       "11  2004                         Veer-Zaara     7.9   33468      192\n",
       "12  2003                    Koi... Mil Gaya     7.1   12003      171\n",
       "13  2002                             Devdas     7.6   25162      185\n",
       "14  2001  Lagaan: Once Upon a Time in India     8.2   68811      224\n",
       "15  2000              Kaho Naa... Pyaar Hai     6.9    7871      172\n",
       "16  1999            Straight from the Heart     7.6    9793      188\n",
       "17  1998                 Kuch Kuch Hota Hai     7.8   31483      177\n",
       "18  1997                   Dil To Pagal Hai     7.1   13890      179\n",
       "19  1996                    Raja Hindustani     6.1    4802      165\n",
       "20  1995        Dilwale Dulhania Le Jayenge     8.3   42056      189\n",
       "21  1994            Hum Aapke Hain Koun...!     7.7   10945      206\n",
       "22  1993              Hum Hain Rahi Pyar Ke     7.5    3443      163\n",
       "23  1992             Jo Jeeta Wohi Sikandar     8.3   12286      174\n",
       "24  1991                              Lamhe     7.4    1928      187\n",
       "25  1990                             Ghayal     7.6    2631      163\n",
       "26  1989                    Maine Pyar Kiya     7.5    5799      192\n",
       "27  1988             Qayamat Se Qayamat Tak     7.6    6161      162\n",
       "28  1987               Ram Teri Ganga Maili     6.8     686      178\n",
       "29  1986                             Sparsh     8.1     380      145\n",
       "..   ...                                ...     ...     ...      ...\n",
       "31  1984                             Shakti     7.9    1347      166\n",
       "32  1983                             Kalyug     7.8     369      152\n",
       "33  1982                         Khubsoorat     7.8     938      126\n",
       "34  1981                             Junoon     7.6     341      141\n",
       "35  1980          Main Tulsi Tere Aangan Ki     7.4      75      151\n",
       "36  1979                            Bhumika     7.6     311      142\n",
       "37  1978                             Mausam     8.1     563      156\n",
       "38  1977                            Deewaar     8.2    5567      174\n",
       "39  1976                        Rajnigandha     7.5     315      110\n",
       "40  1975                            Anuraag     7.4      45      154\n",
       "41  1974                           Be-Imaan     7.4      57      133\n",
       "42  1973                              Anand     8.9   10718      122\n",
       "43  1972                                Toy     7.3     229      160\n",
       "44  1971                           Aradhana     7.7    1091      169\n",
       "45  1970                        Brahmachari     6.8     239      157\n",
       "46  1969                              Upkar     7.7     364      175\n",
       "47  1968                              Guide     8.6    3950      183\n",
       "48  1967                 Himalay Ki Godmein     7.2      57      154\n",
       "49  1966                              Dosti     8.4    1010      163\n",
       "50  1965                            Bandini     7.8     546      157\n",
       "51  1964              Sahib Bibi Aur Ghulam     8.4    1076      152\n",
       "52  1963       Jis Desh Men Ganga Behti Hai     7.3     301      167\n",
       "53  1962                      Mughal-E-Azam     8.4    3868      197\n",
       "54  1961                             Sujata     7.5     191      161\n",
       "55  1960                          Madhumati     8.1     793      110\n",
       "56  1959                       Mother India     8.1    4842      172\n",
       "57  1958          Jhanak Jhanak Payal Baaje     7.3      68      143\n",
       "58  1957                            Jagriti     7.8      82      154\n",
       "59  1956                        Boot Polish     8.1     498      149\n",
       "60  1955                     Do Bigha Zamin     8.4    1104      131\n",
       "\n",
       "[61 rows x 5 columns]"
      ]
     },
     "execution_count": 55,
     "metadata": {},
     "output_type": "execute_result"
    }
   ],
   "source": [
    "# create dataframe\n",
    "df = pd.DataFrame.from_dict(result,orient='index')\n",
    "df = df[['Year', 'Movie Name', 'Rating', 'Votes','RunTime']]\n",
    "df"
   ]
  },
  {
   "cell_type": "markdown",
   "metadata": {
    "slideshow": {
     "slide_type": "slide"
    }
   },
   "source": [
    "### Let's use some of the Pandas functions now and start the Analysis"
   ]
  },
  {
   "cell_type": "code",
   "execution_count": 74,
   "metadata": {
    "collapsed": false,
    "slideshow": {
     "slide_type": "subslide"
    }
   },
   "outputs": [
    {
     "name": "stdout",
     "output_type": "stream",
     "text": [
      "<class 'pandas.core.frame.DataFrame'>\n",
      "Int64Index: 61 entries, 0 to 60\n",
      "Data columns (total 6 columns):\n",
      "Year           61 non-null int64\n",
      "Movie Name     61 non-null object\n",
      "Rating         61 non-null float64\n",
      "Votes          61 non-null int64\n",
      "RunTime        61 non-null int64\n",
      "Ratingbyten    61 non-null float64\n",
      "dtypes: float64(2), int64(3), object(1)\n",
      "memory usage: 3.3+ KB\n"
     ]
    }
   ],
   "source": [
    "df.info()"
   ]
  },
  {
   "cell_type": "markdown",
   "metadata": {
    "slideshow": {
     "slide_type": "slide"
    }
   },
   "source": [
    "### Movies with Highest Ratings"
   ]
  },
  {
   "cell_type": "markdown",
   "metadata": {
    "slideshow": {
     "slide_type": "subslide"
    }
   },
   "source": [
    "#### The top five movies with Maximum Rating since 1955"
   ]
  },
  {
   "cell_type": "code",
   "execution_count": 48,
   "metadata": {
    "collapsed": false,
    "slideshow": {
     "slide_type": "-"
    }
   },
   "outputs": [
    {
     "data": {
      "text/html": [
       "<div>\n",
       "<table border=\"1\" class=\"dataframe\">\n",
       "  <thead>\n",
       "    <tr style=\"text-align: right;\">\n",
       "      <th></th>\n",
       "      <th>Year</th>\n",
       "      <th>Movie Name</th>\n",
       "      <th>Rating</th>\n",
       "      <th>Votes</th>\n",
       "      <th>RunTime</th>\n",
       "    </tr>\n",
       "  </thead>\n",
       "  <tbody>\n",
       "    <tr>\n",
       "      <th>42</th>\n",
       "      <td>1973</td>\n",
       "      <td>Anand</td>\n",
       "      <td>8.9</td>\n",
       "      <td>10718</td>\n",
       "      <td>122</td>\n",
       "    </tr>\n",
       "    <tr>\n",
       "      <th>47</th>\n",
       "      <td>1968</td>\n",
       "      <td>Guide</td>\n",
       "      <td>8.6</td>\n",
       "      <td>3950</td>\n",
       "      <td>183</td>\n",
       "    </tr>\n",
       "    <tr>\n",
       "      <th>8</th>\n",
       "      <td>2007</td>\n",
       "      <td>Like Stars on Earth</td>\n",
       "      <td>8.5</td>\n",
       "      <td>82648</td>\n",
       "      <td>165</td>\n",
       "    </tr>\n",
       "    <tr>\n",
       "      <th>60</th>\n",
       "      <td>1955</td>\n",
       "      <td>Do Bigha Zamin</td>\n",
       "      <td>8.4</td>\n",
       "      <td>1104</td>\n",
       "      <td>131</td>\n",
       "    </tr>\n",
       "    <tr>\n",
       "      <th>53</th>\n",
       "      <td>1962</td>\n",
       "      <td>Mughal-E-Azam</td>\n",
       "      <td>8.4</td>\n",
       "      <td>3868</td>\n",
       "      <td>197</td>\n",
       "    </tr>\n",
       "  </tbody>\n",
       "</table>\n",
       "</div>"
      ],
      "text/plain": [
       "    Year           Movie Name  Rating  Votes  RunTime\n",
       "42  1973                Anand     8.9  10718      122\n",
       "47  1968                Guide     8.6   3950      183\n",
       "8   2007  Like Stars on Earth     8.5  82648      165\n",
       "60  1955       Do Bigha Zamin     8.4   1104      131\n",
       "53  1962        Mughal-E-Azam     8.4   3868      197"
      ]
     },
     "execution_count": 48,
     "metadata": {},
     "output_type": "execute_result"
    }
   ],
   "source": [
    "#Highest Rating Movies\n",
    "df.sort_values('Rating',ascending=[False]).head(5)"
   ]
  },
  {
   "cell_type": "markdown",
   "metadata": {
    "slideshow": {
     "slide_type": "slide"
    }
   },
   "source": [
    "### Movies with Maximum Run time"
   ]
  },
  {
   "cell_type": "markdown",
   "metadata": {
    "slideshow": {
     "slide_type": "subslide"
    }
   },
   "source": [
    "#### Top 10 movies with maximum Run time"
   ]
  },
  {
   "cell_type": "code",
   "execution_count": 49,
   "metadata": {
    "collapsed": false,
    "slideshow": {
     "slide_type": "-"
    }
   },
   "outputs": [
    {
     "data": {
      "text/html": [
       "<div>\n",
       "<table border=\"1\" class=\"dataframe\">\n",
       "  <thead>\n",
       "    <tr style=\"text-align: right;\">\n",
       "      <th></th>\n",
       "      <th>Year</th>\n",
       "      <th>Movie Name</th>\n",
       "      <th>Rating</th>\n",
       "      <th>Votes</th>\n",
       "      <th>RunTime</th>\n",
       "    </tr>\n",
       "  </thead>\n",
       "  <tbody>\n",
       "    <tr>\n",
       "      <th>14</th>\n",
       "      <td>2001</td>\n",
       "      <td>Lagaan: Once Upon a Time in India</td>\n",
       "      <td>8.2</td>\n",
       "      <td>68811</td>\n",
       "      <td>224</td>\n",
       "    </tr>\n",
       "    <tr>\n",
       "      <th>7</th>\n",
       "      <td>2008</td>\n",
       "      <td>Jodhaa Akbar</td>\n",
       "      <td>7.6</td>\n",
       "      <td>17902</td>\n",
       "      <td>213</td>\n",
       "    </tr>\n",
       "    <tr>\n",
       "      <th>21</th>\n",
       "      <td>1994</td>\n",
       "      <td>Hum Aapke Hain Koun...!</td>\n",
       "      <td>7.7</td>\n",
       "      <td>10945</td>\n",
       "      <td>206</td>\n",
       "    </tr>\n",
       "    <tr>\n",
       "      <th>53</th>\n",
       "      <td>1962</td>\n",
       "      <td>Mughal-E-Azam</td>\n",
       "      <td>8.4</td>\n",
       "      <td>3868</td>\n",
       "      <td>197</td>\n",
       "    </tr>\n",
       "    <tr>\n",
       "      <th>26</th>\n",
       "      <td>1989</td>\n",
       "      <td>Maine Pyar Kiya</td>\n",
       "      <td>7.5</td>\n",
       "      <td>5799</td>\n",
       "      <td>192</td>\n",
       "    </tr>\n",
       "    <tr>\n",
       "      <th>11</th>\n",
       "      <td>2004</td>\n",
       "      <td>Veer-Zaara</td>\n",
       "      <td>7.9</td>\n",
       "      <td>33468</td>\n",
       "      <td>192</td>\n",
       "    </tr>\n",
       "    <tr>\n",
       "      <th>20</th>\n",
       "      <td>1995</td>\n",
       "      <td>Dilwale Dulhania Le Jayenge</td>\n",
       "      <td>8.3</td>\n",
       "      <td>42056</td>\n",
       "      <td>189</td>\n",
       "    </tr>\n",
       "    <tr>\n",
       "      <th>16</th>\n",
       "      <td>1999</td>\n",
       "      <td>Straight from the Heart</td>\n",
       "      <td>7.6</td>\n",
       "      <td>9793</td>\n",
       "      <td>188</td>\n",
       "    </tr>\n",
       "    <tr>\n",
       "      <th>24</th>\n",
       "      <td>1991</td>\n",
       "      <td>Lamhe</td>\n",
       "      <td>7.4</td>\n",
       "      <td>1928</td>\n",
       "      <td>187</td>\n",
       "    </tr>\n",
       "    <tr>\n",
       "      <th>2</th>\n",
       "      <td>2013</td>\n",
       "      <td>Bhaag Milkha Bhaag</td>\n",
       "      <td>8.3</td>\n",
       "      <td>39688</td>\n",
       "      <td>186</td>\n",
       "    </tr>\n",
       "  </tbody>\n",
       "</table>\n",
       "</div>"
      ],
      "text/plain": [
       "    Year                         Movie Name  Rating  Votes  RunTime\n",
       "14  2001  Lagaan: Once Upon a Time in India     8.2  68811      224\n",
       "7   2008                       Jodhaa Akbar     7.6  17902      213\n",
       "21  1994            Hum Aapke Hain Koun...!     7.7  10945      206\n",
       "53  1962                      Mughal-E-Azam     8.4   3868      197\n",
       "26  1989                    Maine Pyar Kiya     7.5   5799      192\n",
       "11  2004                         Veer-Zaara     7.9  33468      192\n",
       "20  1995        Dilwale Dulhania Le Jayenge     8.3  42056      189\n",
       "16  1999            Straight from the Heart     7.6   9793      188\n",
       "24  1991                              Lamhe     7.4   1928      187\n",
       "2   2013                 Bhaag Milkha Bhaag     8.3  39688      186"
      ]
     },
     "execution_count": 49,
     "metadata": {},
     "output_type": "execute_result"
    }
   ],
   "source": [
    "#Movies with maximum Run Time\n",
    "df.sort_values(['RunTime'],ascending=[False]).head(10)"
   ]
  },
  {
   "cell_type": "markdown",
   "metadata": {
    "slideshow": {
     "slide_type": "slide"
    }
   },
   "source": [
    "## Best Movie Run time"
   ]
  },
  {
   "cell_type": "markdown",
   "metadata": {
    "slideshow": {
     "slide_type": "subslide"
    }
   },
   "source": [
    "#### Let's plot a graph to see the movie run time trend from 1955 thru 2015"
   ]
  },
  {
   "cell_type": "code",
   "execution_count": 75,
   "metadata": {
    "collapsed": false,
    "slideshow": {
     "slide_type": "-"
    }
   },
   "outputs": [
    {
     "data": {
      "image/png": "[encoded data removed]",
      "text/plain": [
       "<matplotlib.figure.Figure at 0x10c7586a0>"
      ]
     },
     "metadata": {},
     "output_type": "display_data"
    }
   ],
   "source": [
    "df.plot(x=df.Year,y=['RunTime']);"
   ]
  },
  {
   "cell_type": "markdown",
   "metadata": {
    "slideshow": {
     "slide_type": "subslide"
    }
   },
   "source": [
    "#### Mean of the Movie Run Time"
   ]
  },
  {
   "cell_type": "code",
   "execution_count": 48,
   "metadata": {
    "collapsed": false,
    "slideshow": {
     "slide_type": "-"
    }
   },
   "outputs": [
    {
     "data": {
      "text/plain": [
       "154.2622950819672"
      ]
     },
     "execution_count": 48,
     "metadata": {},
     "output_type": "execute_result"
    }
   ],
   "source": [
    "df['RunTime'].mean()"
   ]
  },
  {
   "cell_type": "markdown",
   "metadata": {
    "slideshow": {
     "slide_type": "slide"
    }
   },
   "source": [
    "### Best Movie Ratings"
   ]
  },
  {
   "cell_type": "markdown",
   "metadata": {
    "slideshow": {
     "slide_type": "subslide"
    }
   },
   "source": [
    "#### Perform some analysis on the ratings of all the Best won movies\n",
    "\n",
    "* No. of Movies Greater than IMDB 7 ratings"
   ]
  },
  {
   "cell_type": "code",
   "execution_count": 76,
   "metadata": {
    "collapsed": false,
    "slideshow": {
     "slide_type": "-"
    }
   },
   "outputs": [
    {
     "data": {
      "text/plain": [
       "56"
      ]
     },
     "execution_count": 76,
     "metadata": {},
     "output_type": "execute_result"
    }
   ],
   "source": [
    "df[(df['Rating']>=7)]['Rating'].count()"
   ]
  },
  {
   "cell_type": "markdown",
   "metadata": {
    "slideshow": {
     "slide_type": "subslide"
    }
   },
   "source": [
    "#### Movie Ratings Visualization using Bar Graph"
   ]
  },
  {
   "cell_type": "code",
   "execution_count": 77,
   "metadata": {
    "collapsed": false,
    "slideshow": {
     "slide_type": "-"
    }
   },
   "outputs": [
    {
     "data": {
      "image/png": "[encoded data removed]",
      "text/plain": [
       "<matplotlib.figure.Figure at 0x10c687240>"
      ]
     },
     "metadata": {},
     "output_type": "display_data"
    }
   ],
   "source": [
    "Rating_Histdic = defaultdict(dict)\n",
    "\n",
    "Rating_Histdic['Btwn 6&7'] = df[(df['Rating']>=6)&(df['Rating']<7)]['Rating'].count()\n",
    "Rating_Histdic['GTEQ 8'] = df[(df['Rating']>=8)]['Rating'].count()\n",
    "Rating_Histdic['Btwn 7 & 8'] = df[(df['Rating']>=7)&(df['Rating']<8)]['Rating'].count()\n",
    "\n",
    "\n",
    "plt.bar(range(len(Rating_Histdic)), Rating_Histdic.values(), align='center',color='brown',width=0.4)\n",
    "plt.xticks(range(len(Rating_Histdic)), Rating_Histdic.keys(), rotation=25);"
   ]
  },
  {
   "cell_type": "markdown",
   "metadata": {},
   "source": [
    "#### Percentage distribution of the Ratings in a Pie-Chart"
   ]
  },
  {
   "cell_type": "code",
   "execution_count": 78,
   "metadata": {
    "collapsed": false,
    "scrolled": true,
    "slideshow": {
     "slide_type": "subslide"
    }
   },
   "outputs": [
    {
     "data": {
      "image/png": "[encoded data removed]",
      "text/plain": [
       "<matplotlib.figure.Figure at 0x10c7420f0>"
      ]
     },
     "metadata": {},
     "output_type": "display_data"
    }
   ],
   "source": [
    "Rating_Hist = []\n",
    "import numpy as np\n",
    "    \n",
    "Rating_Hist.append(Rating_Histdic['Btwn 6&7'])\n",
    "Rating_Hist.append(Rating_Histdic['GTEQ 8'])\n",
    "Rating_Hist.append(Rating_Histdic['Btwn 7 & 8'])\n",
    "\n",
    "labels = ['Btwn 6&7', 'GTEQ 8', 'Btwn 7 & 8']\n",
    "colors = ['red', 'orange', 'green']\n",
    "\n",
    "plt.pie(Rating_Hist,labels=labels, colors=colors,autopct='%1.1f%%', shadow=True, startangle=90);"
   ]
  },
  {
   "cell_type": "markdown",
   "metadata": {
    "slideshow": {
     "slide_type": "slide"
    }
   },
   "source": [
    "### Best Picture by Genre"
   ]
  },
  {
   "cell_type": "markdown",
   "metadata": {
    "slideshow": {
     "slide_type": "subslide"
    }
   },
   "source": [
    "#### Let's analyze the Genre for the best won movies"
   ]
  },
  {
   "cell_type": "code",
   "execution_count": 54,
   "metadata": {
    "collapsed": false,
    "scrolled": true,
    "slideshow": {
     "slide_type": "-"
    }
   },
   "outputs": [
    {
     "data": {
      "image/png": "[encoded data removed]",
      "text/plain": [
       "<matplotlib.figure.Figure at 0x10c52f8d0>"
      ]
     },
     "metadata": {},
     "output_type": "display_data"
    }
   ],
   "source": [
    "Category=Counter(datatbl['data']['Genre'])\n",
    "df1 = pd.DataFrame.from_dict(Category,orient='index')\n",
    "df1 = df1.sort_values([0],ascending=[False]).head(5)\n",
    "df1.plot(kind='barh',color=['g','c','m']);"
   ]
  },
  {
   "cell_type": "markdown",
   "metadata": {
    "collapsed": true,
    "slideshow": {
     "slide_type": "slide"
    }
   },
   "source": [
    "# Conclusion : \n",
    "  \n",
    "* Movies with Ratings greater than 7  \n",
    "* Run time more than 2hrs \n",
    "* Category Drama & Musical are most likely to be selcted for Best Picture"
   ]
  }
 ],
 "metadata": {
  "celltoolbar": "Slideshow",
  "kernelspec": {
   "display_name": "Python 3",
   "language": "python",
   "name": "python3"
  },
  "language_info": {
   "codemirror_mode": {
    "name": "ipython",
    "version": 3
   },
   "file_extension": ".py",
   "mimetype": "text/x-python",
   "name": "python",
   "nbconvert_exporter": "python",
   "pygments_lexer": "ipython3",
   "version": "3.5.1"
  }
 },
 "nbformat": 4,
 "nbformat_minor": 0
}
